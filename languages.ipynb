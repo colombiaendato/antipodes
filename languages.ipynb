{
 "cells": [
  {
   "cell_type": "code",
   "execution_count": 241,
   "metadata": {},
   "outputs": [],
   "source": [
    "import pymongo"
   ]
  },
  {
   "cell_type": "code",
   "execution_count": 242,
   "metadata": {},
   "outputs": [],
   "source": [
    "import pandas as pd"
   ]
  },
  {
   "cell_type": "code",
   "execution_count": 243,
   "metadata": {},
   "outputs": [],
   "source": [
    "import numpy as np"
   ]
  },
  {
   "cell_type": "code",
   "execution_count": 244,
   "metadata": {},
   "outputs": [],
   "source": [
    "from unidecode import unidecode"
   ]
  },
  {
   "cell_type": "code",
   "execution_count": 245,
   "metadata": {},
   "outputs": [],
   "source": [
    "from tqdm import tqdm"
   ]
  },
  {
   "cell_type": "code",
   "execution_count": 246,
   "metadata": {},
   "outputs": [],
   "source": [
    "LANGUAGES = {\n",
    "    'af': 'afrikaans',\n",
    "    'sq': 'albanian',\n",
    "    'am': 'amharic',\n",
    "    'ar': 'arabic',\n",
    "    'hy': 'armenian',\n",
    "    'az': 'azerbaijani',\n",
    "    'eu': 'basque',\n",
    "    'be': 'belarusian',\n",
    "    'bn': 'bengali',\n",
    "    'bs': 'bosnian',\n",
    "    'bg': 'bulgarian',\n",
    "    'ca': 'catalan',\n",
    "    'ceb': 'cebuano',\n",
    "    'ny': 'chichewa',\n",
    "    'zh-cn': 'chinese (simplified)',\n",
    "    'zh-tw': 'chinese (traditional)',\n",
    "    'co': 'corsican',\n",
    "    'hr': 'croatian',\n",
    "    'cs': 'czech',\n",
    "    'da': 'danish',\n",
    "    'nl': 'dutch',\n",
    "    'en': 'english',\n",
    "    'eo': 'esperanto',\n",
    "    'et': 'estonian',\n",
    "    'tl': 'filipino',\n",
    "    'fi': 'finnish',\n",
    "    'fr': 'french',\n",
    "    'fy': 'frisian',\n",
    "    'gl': 'galician',\n",
    "    'ka': 'georgian',\n",
    "    'de': 'german',\n",
    "    'el': 'greek',\n",
    "    'gu': 'gujarati',\n",
    "    'ht': 'haitian creole',\n",
    "    'ha': 'hausa',\n",
    "    'haw': 'hawaiian',\n",
    "    'iw': 'hebrew',\n",
    "    'hi': 'hindi',\n",
    "    'hmn': 'hmong',\n",
    "    'hu': 'hungarian',\n",
    "    'is': 'icelandic',\n",
    "    'ig': 'igbo',\n",
    "    'id': 'indonesian',\n",
    "    'ga': 'irish',\n",
    "    'it': 'italian',\n",
    "    'ja': 'japanese',\n",
    "    'jw': 'javanese',\n",
    "    'kn': 'kannada',\n",
    "    'kk': 'kazakh',\n",
    "    'km': 'khmer',\n",
    "    'ko': 'korean',\n",
    "    'ku': 'kurdish (kurmanji)',\n",
    "    'ky': 'kyrgyz',\n",
    "    'lo': 'lao',\n",
    "    'la': 'latin',\n",
    "    'lv': 'latvian',\n",
    "    'lt': 'lithuanian',\n",
    "    'lb': 'luxembourgish',\n",
    "    'mk': 'macedonian',\n",
    "    'mg': 'malagasy',\n",
    "    'ms': 'malay',\n",
    "    'ml': 'malayalam',\n",
    "    'mt': 'maltese',\n",
    "    'mi': 'maori',\n",
    "    'mr': 'marathi',\n",
    "    'mn': 'mongolian',\n",
    "    'my': 'myanmar (burmese)',\n",
    "    'ne': 'nepali',\n",
    "    'no': 'norwegian',\n",
    "    'ps': 'pashto',\n",
    "    'fa': 'persian',\n",
    "    'pl': 'polish',\n",
    "    'pt': 'portuguese',\n",
    "    'pa': 'punjabi',\n",
    "    'ro': 'romanian',\n",
    "    'ru': 'russian',\n",
    "    'sm': 'samoan',\n",
    "    'gd': 'scots gaelic',\n",
    "    'sr': 'serbian',\n",
    "    'st': 'sesotho',\n",
    "    'sn': 'shona',\n",
    "    'sd': 'sindhi',\n",
    "    'si': 'sinhala',\n",
    "    'sk': 'slovak',\n",
    "    'sl': 'slovenian',\n",
    "    'so': 'somali',\n",
    "    'es': 'spanish',\n",
    "    'su': 'sundanese',\n",
    "    'sw': 'swahili',\n",
    "    'sv': 'swedish',\n",
    "    'tg': 'tajik',\n",
    "    'ta': 'tamil',\n",
    "    'te': 'telugu',\n",
    "    'th': 'thai',\n",
    "    'tr': 'turkish',\n",
    "    'uk': 'ukrainian',\n",
    "    'ur': 'urdu',\n",
    "    'uz': 'uzbek',\n",
    "    'vi': 'vietnamese',\n",
    "    'cy': 'welsh',\n",
    "    'xh': 'xhosa',\n",
    "    'yi': 'yiddish',\n",
    "    'yo': 'yoruba',\n",
    "    'zu': 'zulu'\n",
    "}"
   ]
  },
  {
   "cell_type": "code",
   "execution_count": 248,
   "metadata": {},
   "outputs": [],
   "source": [
    "client = pymongo.MongoClient(\"localhost\", 27017)\n",
    "coll = client.col_en_datos.words"
   ]
  },
  {
   "cell_type": "code",
   "execution_count": 249,
   "metadata": {},
   "outputs": [],
   "source": [
    "def data_processing(x):\n",
    "    if x['pron'] == None:\n",
    "        return unidecode(x['word']).lower()\n",
    "    else:\n",
    "        return unidecode(x['pron']).lower()"
   ]
  },
  {
   "cell_type": "code",
   "execution_count": 250,
   "metadata": {},
   "outputs": [],
   "source": [
    "words_ids = list(coll.distinct('id'))"
   ]
  },
  {
   "cell_type": "code",
   "execution_count": 251,
   "metadata": {},
   "outputs": [],
   "source": [
    "lang_ids = list(coll.distinct('lang'))\n",
    "#lang_ids = list(SUBLANGUAGES_V0)"
   ]
  },
  {
   "cell_type": "code",
   "execution_count": 282,
   "metadata": {
    "scrolled": true
   },
   "outputs": [
    {
     "name": "stderr",
     "output_type": "stream",
     "text": [
      "\n",
      "\n",
      "\n",
      "\n",
      "\n",
      "\n",
      "  0%|          | 0/3 [00:00<?, ?it/s]\u001b[A\u001b[A\u001b[A\u001b[A\u001b[A\u001b[A\n",
      "\n",
      "\n",
      "\n",
      "\n",
      "\n",
      " 33%|███▎      | 1/3 [00:07<00:14,  7.45s/it]\u001b[A\u001b[A\u001b[A\u001b[A\u001b[A\u001b[A\n",
      "\n",
      "\n",
      "\n",
      "\n",
      "\n",
      " 67%|██████▋   | 2/3 [00:15<00:07,  7.55s/it]\u001b[A\u001b[A\u001b[A\u001b[A\u001b[A\u001b[A\n",
      "\n",
      "\n",
      "\n",
      "\n",
      "\n",
      "100%|██████████| 3/3 [00:22<00:00,  7.49s/it]\u001b[A\u001b[A\u001b[A\u001b[A\u001b[A\u001b[A\n",
      "\n",
      "\n",
      "\n",
      "\n",
      "\n",
      "\u001b[A\u001b[A\u001b[A\u001b[A\u001b[A\u001b[A"
     ]
    }
   ],
   "source": [
    "matrix_dict = {}\n",
    "for word in tqdm(words_ids[100:103], total=len(words_ids[100:103])):\n",
    "    word_dist_matrix = np.zeros((len(lang_ids), len(lang_ids)))\n",
    "    for e_i, i in enumerate(lang_ids):\n",
    "        for e_j, j in enumerate(lang_ids):\n",
    "            w_i = list(coll.find({'id':word, 'lang':i}))\n",
    "            w_j = list(coll.find({'id':word, 'lang':j}))\n",
    "            if len(w_i) != 0 and len(w_j) != 0 and i!=j:\n",
    "                w_i = data_processing(w_i[0])\n",
    "                w_j = data_processing(w_j[0])\n",
    "                word_dist_matrix[e_i][e_j] = pylev.levenshtein(w_i,w_j)\n",
    "            else:\n",
    "                word_dist_matrix[e_i][e_j] = np.NaN\n",
    "    matrix_dict[word] = word_dist_matrix"
   ]
  },
  {
   "cell_type": "code",
   "execution_count": 284,
   "metadata": {},
   "outputs": [],
   "source": [
    "coll_dist_m = client.col_en_datos.dist_m"
   ]
  },
  {
   "cell_type": "code",
   "execution_count": 285,
   "metadata": {},
   "outputs": [
    {
     "name": "stderr",
     "output_type": "stream",
     "text": [
      "/home/jfm/antipodes/venv/lib/python3.6/site-packages/ipykernel_launcher.py:2: DeprecationWarning: insert is deprecated. Use insert_one or insert_many instead.\n",
      "  \n"
     ]
    }
   ],
   "source": [
    "for m in matrix_dict:\n",
    "    coll_dist_m.insert({'word':m, 'matrix':matrix_dict[m].tolist()})"
   ]
  },
  {
   "cell_type": "code",
   "execution_count": 264,
   "metadata": {},
   "outputs": [],
   "source": [
    "def_dist_matrix = []\n",
    "for i in matrix_dict:\n",
    "    def_dist_matrix.append(matrix_dict[i])"
   ]
  },
  {
   "cell_type": "code",
   "execution_count": 265,
   "metadata": {},
   "outputs": [
    {
     "name": "stderr",
     "output_type": "stream",
     "text": [
      "/home/jfm/antipodes/venv/lib/python3.6/site-packages/ipykernel_launcher.py:1: RuntimeWarning: Mean of empty slice\n",
      "  \"\"\"Entry point for launching an IPython kernel.\n"
     ]
    }
   ],
   "source": [
    "def_dist_matrix = np.nanmean(np.array(def_dist_matrix), axis=0)"
   ]
  },
  {
   "cell_type": "code",
   "execution_count": 266,
   "metadata": {},
   "outputs": [
    {
     "data": {
      "image/png": "[encoded data removed]",
      "text/plain": [
       "<Figure size 288x288 with 1 Axes>"
      ]
     },
     "metadata": {},
     "output_type": "display_data"
    }
   ],
   "source": [
    "import matplotlib.pyplot as plt\n",
    "%matplotlib inline\n",
    "plt.matshow(def_dist_matrix, cmap='gray')\n",
    "plt.show()"
   ]
  },
  {
   "cell_type": "code",
   "execution_count": 267,
   "metadata": {},
   "outputs": [
    {
     "name": "stdout",
     "output_type": "stream",
     "text": [
      "0.0\n"
     ]
    }
   ],
   "source": [
    "same = np.argwhere(def_dist_matrix == np.nanmin(def_dist_matrix))\n",
    "print(np.nanmin(def_dist_matrix))"
   ]
  },
  {
   "cell_type": "code",
   "execution_count": 268,
   "metadata": {},
   "outputs": [
    {
     "name": "stdout",
     "output_type": "stream",
     "text": [
      "danish \t norwegian\n",
      "galician \t spanish\n",
      "norwegian \t danish\n",
      "spanish \t galician\n"
     ]
    }
   ],
   "source": [
    "for s in same:\n",
    "    #w_i = data_processing(list(coll.find({'id':word, 'lang':lang_ids[s[0]]}))[0])\n",
    "    #w_j = data_processing(list(coll.find({'id':word, 'lang':lang_ids[s[1]]}))[0])\n",
    "    print(\"%s \\t %s\" % (LANGUAGES[lang_ids[s[0]]], LANGUAGES[lang_ids[s[1]]]))"
   ]
  },
  {
   "cell_type": "code",
   "execution_count": 272,
   "metadata": {},
   "outputs": [],
   "source": [
    "s = pd.Series(def_dist_matrix[lang_ids.index(\"ru\")])"
   ]
  },
  {
   "cell_type": "code",
   "execution_count": 273,
   "metadata": {},
   "outputs": [],
   "source": [
    "s.index = pd.Series(lang_ids).apply(lambda x:LANGUAGES[x])"
   ]
  },
  {
   "cell_type": "code",
   "execution_count": 274,
   "metadata": {},
   "outputs": [
    {
     "data": {
      "text/plain": [
       "ukrainian             0.500000\n",
       "mongolian             3.000000\n",
       "belarusian            5.666667\n",
       "polish                6.000000\n",
       "azerbaijani           6.333333\n",
       "croatian              6.333333\n",
       "macedonian            6.333333\n",
       "bosnian               6.666667\n",
       "filipino              6.666667\n",
       "spanish               7.000000\n",
       "albanian              7.000000\n",
       "basque                7.000000\n",
       "latin                 7.000000\n",
       "slovenian             7.000000\n",
       "romanian              7.333333\n",
       "galician              7.333333\n",
       "norwegian             7.333333\n",
       "hungarian             7.333333\n",
       "bulgarian             7.333333\n",
       "javanese              7.333333\n",
       "shona                 7.333333\n",
       "esperanto             7.333333\n",
       "swedish               7.666667\n",
       "english               7.666667\n",
       "estonian              7.666667\n",
       "portuguese            7.666667\n",
       "catalan               7.666667\n",
       "kyrgyz                8.000000\n",
       "frisian               8.000000\n",
       "tamil                 8.000000\n",
       "                       ...    \n",
       "zulu                 10.500000\n",
       "somali               10.500000\n",
       "lao                  10.500000\n",
       "finnish              10.500000\n",
       "icelandic            10.666667\n",
       "turkish              10.666667\n",
       "igbo                 10.666667\n",
       "kazakh               10.666667\n",
       "nepali               11.000000\n",
       "welsh                11.000000\n",
       "xhosa                11.000000\n",
       "maori                11.000000\n",
       "irish                11.000000\n",
       "swahili              11.000000\n",
       "kannada              11.000000\n",
       "danish               11.000000\n",
       "haitian creole       11.000000\n",
       "malay                11.333333\n",
       "malagasy             11.333333\n",
       "yoruba               11.333333\n",
       "italian              11.500000\n",
       "thai                 11.666667\n",
       "chichewa             11.666667\n",
       "dutch                12.000000\n",
       "vietnamese           12.000000\n",
       "samoan               12.000000\n",
       "sinhala              12.333333\n",
       "uzbek                12.666667\n",
       "myanmar (burmese)    15.333333\n",
       "russian                    NaN\n",
       "Length: 104, dtype: float64"
      ]
     },
     "execution_count": 274,
     "metadata": {},
     "output_type": "execute_result"
    }
   ],
   "source": [
    "s.sort_values()"
   ]
  }
 ],
 "metadata": {
  "kernelspec": {
   "display_name": "Python 3",
   "language": "python",
   "name": "python3"
  },
  "language_info": {
   "codemirror_mode": {
    "name": "ipython",
    "version": 3
   },
   "file_extension": ".py",
   "mimetype": "text/x-python",
   "name": "python",
   "nbconvert_exporter": "python",
   "pygments_lexer": "ipython3",
   "version": "3.6.3"
  }
 },
 "nbformat": 4,
 "nbformat_minor": 2
}

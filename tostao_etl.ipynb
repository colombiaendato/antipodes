{
 "cells": [
  {
   "cell_type": "code",
   "execution_count": 35,
   "metadata": {},
   "outputs": [],
   "source": [
    "import pandas as pd\n",
    "import numpy as np"
   ]
  },
  {
   "cell_type": "code",
   "execution_count": 32,
   "metadata": {},
   "outputs": [],
   "source": [
    "dict_l_ret = []\n",
    "with open('./data/tostaos.kml') as fp:  \n",
    "    line = fp.readline()\n",
    "    while line:\n",
    "        dict_ret = {}\n",
    "        if '<description>' in line:\n",
    "            line = line.replace(\"      <description><![CDATA[Dirección: \",\"\")\\\n",
    "            .replace(\"]]></description>\",\"\")\n",
    "            line_ar = line.split(\"<br>\")\n",
    "            addr = line_ar[0]\n",
    "            loc = line_ar[1].replace(\"Localidad: \",\"\")\n",
    "            lat = float(line_ar[2].replace(\"Latitud: \",\"\"))\n",
    "            lon = float(line_ar[3].replace(\"Longitud: \",\"\"))\n",
    "            dict_ret[\"addr\"] = addr\n",
    "            dict_ret[\"loc\"] = loc\n",
    "            dict_ret[\"lat\"] = lat\n",
    "            dict_ret[\"lon\"] = lon\n",
    "            dict_l_ret.append(dict_ret)\n",
    "        line = fp.readline()\n",
    "df = pd.DataFrame(dict_l_ret)"
   ]
  },
  {
   "cell_type": "code",
   "execution_count": 40,
   "metadata": {},
   "outputs": [],
   "source": [
    "df.to_csv(\"./data/tostaos.csv\", index=False)"
   ]
  }
 ],
 "metadata": {
  "kernelspec": {
   "display_name": "Python 3",
   "language": "python",
   "name": "python3"
  },
  "language_info": {
   "codemirror_mode": {
    "name": "ipython",
    "version": 3
   },
   "file_extension": ".py",
   "mimetype": "text/x-python",
   "name": "python",
   "nbconvert_exporter": "python",
   "pygments_lexer": "ipython3",
   "version": "3.6.3"
  }
 },
 "nbformat": 4,
 "nbformat_minor": 2
}

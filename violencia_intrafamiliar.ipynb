{
 "cells": [
  {
   "cell_type": "code",
   "execution_count": 97,
   "metadata": {},
   "outputs": [],
   "source": [
    "import pandas as pd\n",
    "import numpy as np\n",
    "import matplotlib\n",
    "from matplotlib import pyplot as plt"
   ]
  },
  {
   "cell_type": "code",
   "execution_count": 64,
   "metadata": {},
   "outputs": [],
   "source": [
    "%matplotlib inline"
   ]
  },
  {
   "cell_type": "code",
   "execution_count": 65,
   "metadata": {},
   "outputs": [],
   "source": [
    "df = pd.read_csv('./data/DP_LIVE_16092018222212235.csv')"
   ]
  },
  {
   "cell_type": "code",
   "execution_count": 71,
   "metadata": {},
   "outputs": [],
   "source": [
    "df_code = pd.read_csv('./data/iso-codes.csv')"
   ]
  },
  {
   "cell_type": "code",
   "execution_count": 73,
   "metadata": {},
   "outputs": [],
   "source": [
    "d_code = {}\n",
    "for i in df_code.iterrows():\n",
    "    d_code[i[1]['alpha-3']] = i[1]['name']"
   ]
  },
  {
   "cell_type": "code",
   "execution_count": 66,
   "metadata": {},
   "outputs": [
    {
     "name": "stdout",
     "output_type": "stream",
     "text": [
      "['LAWDOMVIOL', 'LAWRAPE', 'LAWSEXHARASS', 'ATTITUDEVIOL', 'PREVVIOLLIFETIME']\n"
     ]
    }
   ],
   "source": [
    "sub_list = list(df['SUBJECT'].unique())\n",
    "print(sub_list)"
   ]
  },
  {
   "cell_type": "code",
   "execution_count": 67,
   "metadata": {},
   "outputs": [
    {
     "name": "stderr",
     "output_type": "stream",
     "text": [
      "/home/jfm/anaconda3/envs/colombiaendato/lib/python3.7/site-packages/ipykernel_launcher.py:4: SettingWithCopyWarning: \n",
      "A value is trying to be set on a copy of a slice from a DataFrame.\n",
      "Try using .loc[row_indexer,col_indexer] = value instead\n",
      "\n",
      "See the caveats in the documentation: http://pandas.pydata.org/pandas-docs/stable/indexing.html#indexing-view-versus-copy\n",
      "  after removing the cwd from sys.path.\n"
     ]
    }
   ],
   "source": [
    "df_l = []\n",
    "for i in sub_list:\n",
    "    df_t = df[df['SUBJECT'] == i]\n",
    "    df_t[i] = df['Value']\n",
    "    df_t = df_t[['LOCATION', i]]\n",
    "    df_l.append(df_t)"
   ]
  },
  {
   "cell_type": "code",
   "execution_count": 38,
   "metadata": {},
   "outputs": [],
   "source": [
    "df_def = df_l[0]"
   ]
  },
  {
   "cell_type": "code",
   "execution_count": 233,
   "metadata": {},
   "outputs": [],
   "source": [
    "#for i in range(1,len(df_l)):\n",
    "#    df_def = pd.merge(df_def, df_l[i], on='LOCATION')\n",
    "df_def = pd.merge(df_l[3], df_l[4], on='LOCATION')"
   ]
  },
  {
   "cell_type": "code",
   "execution_count": 236,
   "metadata": {},
   "outputs": [],
   "source": [
    "df_def['full_name'] = df_def['LOCATION'].apply(lambda x:d_code[x])"
   ]
  },
  {
   "cell_type": "code",
   "execution_count": 225,
   "metadata": {},
   "outputs": [
    {
     "name": "stdout",
     "output_type": "stream",
     "text": [
      "ALB\tAlbania\n",
      "ARM\tArmenia\n",
      "AUS\tAustralia\n",
      "AZE\tAzerbaijan\n",
      "BFA\tBurkina Faso\n",
      "BGD\tBangladesh\n",
      "BGR\tBulgaria\n",
      "BLR\tBelarus\n",
      "BOL\tBolivia\n",
      "BRA\tBrasil\n",
      "CAN\tCanadá\n",
      "CHE\tSwitzerland\n",
      "CHL\tChile\n",
      "CHN\tChina\n",
      "CMR\tCameroon\n",
      "COD\tCongo\n",
      "COL\tCOLOMBIA\n",
      "DEU\tAlemania\n",
      "DOM\tR. Dominicana\n",
      "ECU\tEcuador\n",
      "EGY\tEgypt\n",
      "ESP\tEspaña\n",
      "EST\tEstonia\n",
      "ETH\tEtiopía\n",
      "FIN\tFinland\n",
      "FRA\tFrancia\n",
      "GAB\tGabon\n",
      "GBR\tUnited Kingdom of Great Britain and Northern Ireland\n",
      "GEO\tGeorgia\n",
      "GHA\tGhana\n",
      "GNQ\tEquatorial Guinea\n",
      "GTM\tGuatemala\n",
      "HTI\tHaití\n",
      "HUN\tHungary\n",
      "IND\tIndia\n",
      "ITA\tItaly\n",
      "JAM\tJamaica\n",
      "JOR\tJordania\n",
      "JPN\tJapan\n",
      "KEN\tKenya\n",
      "KHM\tCambodia\n",
      "LBN\tLebanon\n",
      "LBR\tLiberia\n",
      "MDA\tMoldova (Republic of)\n",
      "MEX\tMéxico\n",
      "MKD\tMacedonia (the former Yugoslav Republic of)\n",
      "MOZ\tMozambique\n",
      "MWI\tMalawi\n",
      "NAM\tNamibia\n",
      "NGA\tNigeria\n",
      "NIC\tNicaragua\n",
      "NLD\tNetherlands\n",
      "NOR\tNorway\n",
      "NPL\tNepal\n",
      "NZL\tNew Zealand\n",
      "PAK\tPakistan\n",
      "PER\tPerú\n",
      "PHL\tPhilippines\n",
      "POL\tPoland\n",
      "ROU\tRomania\n",
      "RUS\tRussian Federation\n",
      "RWA\tRwanda\n",
      "SDN\tSudan\n",
      "SRB\tSerbia\n",
      "SVN\tSlovenia\n",
      "SWE\tSweden\n",
      "TCD\tChad\n",
      "THA\tThailand\n",
      "TJK\tTajikistan\n",
      "TLS\tTimor-Leste\n",
      "TUN\tTunisia\n",
      "TUR\tTurkey\n",
      "TZA\tTanzania, United Republic of\n",
      "UGA\tUganda\n",
      "UKR\tUkraine\n",
      "USA\tEE.UU.\n",
      "VNM\tViet Nam\n",
      "ZAF\tSouth Africa\n",
      "ZMB\tZambia\n",
      "ZWE\tZimbabwe\n"
     ]
    }
   ],
   "source": [
    "for l in list(df_def['LOCATION'].unique()):\n",
    "    print(\"%s\\t%s\" % (l, d_code[l]))"
   ]
  },
  {
   "cell_type": "code",
   "execution_count": 240,
   "metadata": {},
   "outputs": [
    {
     "name": "stdout",
     "output_type": "stream",
     "text": [
      "   LOCATION  ATTITUDEVIOL  PREVVIOLLIFETIME full_name\n",
      "36      JAM           3.0              35.0   Jamaica\n",
      "   LOCATION  ATTITUDEVIOL  PREVVIOLLIFETIME    full_name\n",
      "69      TLS          86.0              35.0  Timor-Leste\n",
      "   LOCATION  ATTITUDEVIOL  PREVVIOLLIFETIME full_name\n",
      "10      CAN           6.0               6.0    Canadá\n",
      "   LOCATION  ATTITUDEVIOL  PREVVIOLLIFETIME full_name\n",
      "23      ETH          68.0              71.0   Etiopía\n",
      "   LOCATION  ATTITUDEVIOL  PREVVIOLLIFETIME full_name\n",
      "16      COL          11.0              39.0  COLOMBIA\n"
     ]
    }
   ],
   "source": [
    "print(df_def[df_def['ATTITUDEVIOL'] == df_def['ATTITUDEVIOL'].min()])\n",
    "print(df_def[df_def['ATTITUDEVIOL'] == df_def['ATTITUDEVIOL'].max()])\n",
    "print(df_def[df_def['PREVVIOLLIFETIME'] == df_def['PREVVIOLLIFETIME'].min()])\n",
    "print(df_def[df_def['PREVVIOLLIFETIME'] == df_def['PREVVIOLLIFETIME'].max()])\n",
    "print(df_def[df_def['LOCATION'] == 'COL'])"
   ]
  },
  {
   "cell_type": "code",
   "execution_count": 226,
   "metadata": {},
   "outputs": [],
   "source": [
    "df_def = df_def[df_def['LOCATION'].isin(['GHA','ECU','JOR','TCD','FRA','ESP','BOL','BRA','COL','DOM','MEX','PER','TLS','USA','CAN','ETH','COD','DEU'])]"
   ]
  },
  {
   "cell_type": "code",
   "execution_count": 227,
   "metadata": {},
   "outputs": [],
   "source": [
    "atti = list(df_def['ATTITUDEVIOL'])\n",
    "prev = list(df_def['PREVVIOLLIFETIME'])\n",
    "loca = list(df_def['LOCATION'])"
   ]
  },
  {
   "cell_type": "code",
   "execution_count": 228,
   "metadata": {},
   "outputs": [],
   "source": [
    "d_code['USA'] = 'EE.UU.'\n",
    "d_code['DOM'] = 'R. Dominicana'\n",
    "d_code['BOL'] = 'Bolivia'\n",
    "d_code['COD'] = 'Congo'\n",
    "d_code['PER'] = 'Perú'\n",
    "d_code['MEX'] = 'México'\n",
    "d_code['CAN'] = 'Canadá'\n",
    "d_code['DEU'] = 'Alemania'\n",
    "d_code['ETH'] = 'Etiopía'\n",
    "d_code['BRA'] = 'Brasil'\n",
    "d_code['HTI'] = 'Haití'\n",
    "d_code['ESP'] = 'España'\n",
    "d_code['JOR'] = 'Jordania'\n",
    "d_code['COL'] = 'COLOMBIA'\n",
    "d_code['FRA'] = 'Francia'"
   ]
  },
  {
   "cell_type": "code",
   "execution_count": 241,
   "metadata": {},
   "outputs": [
    {
     "data": {
      "image/png": "[encoded data removed]",
      "text/plain": [
       "<Figure size 432x288 with 1 Axes>"
      ]
     },
     "metadata": {
      "needs_background": "light"
     },
     "output_type": "display_data"
    }
   ],
   "source": [
    "#plt.scatter(atti, prev)\n",
    "fig, ax = plt.subplots()\n",
    "ax.scatter(atti, prev)\n",
    "plt.xlabel('Porcentaje de mujeres que justifican violencia intrafamiliar (%)')\n",
    "plt.ylabel('Porcentaje de mujeres que han sido víctimas de violencia intrafamiliar (%)')\n",
    "for i in range(len(loca)):\n",
    "    ax.annotate(d_code[loca[i]], (atti[i]+1, prev[i]+np.random.randn()*1-0.5))"
   ]
  },
  {
   "cell_type": "code",
   "execution_count": null,
   "metadata": {},
   "outputs": [],
   "source": []
  }
 ],
 "metadata": {
  "kernelspec": {
   "display_name": "Python 3",
   "language": "python",
   "name": "python3"
  },
  "language_info": {
   "codemirror_mode": {
    "name": "ipython",
    "version": 3
   },
   "file_extension": ".py",
   "mimetype": "text/x-python",
   "name": "python",
   "nbconvert_exporter": "python",
   "pygments_lexer": "ipython3",
   "version": "3.7.0"
  }
 },
 "nbformat": 4,
 "nbformat_minor": 2
}

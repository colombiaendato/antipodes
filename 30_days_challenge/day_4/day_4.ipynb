{
 "cells": [
  {
   "cell_type": "code",
   "execution_count": 33,
   "metadata": {},
   "outputs": [],
   "source": [
    "import svgwrite\n",
    "import numpy as np\n",
    "import pandas as pd\n",
    "import requests\n",
    "import io\n",
    "from matplotlib import pyplot as plt"
   ]
  },
  {
   "cell_type": "code",
   "execution_count": 34,
   "metadata": {},
   "outputs": [],
   "source": [
    "def assignment(df, centroids):\n",
    "    for i in centroids.keys():\n",
    "        # sqrt((x1 - x2)^2 - (y1 - y2)^2)\n",
    "        df['distance_from_{}'.format(i)] = abs(df['rate'] - centroids[i][0])\n",
    "    centroid_distance_cols = ['distance_from_{}'.format(i) for i in centroids.keys()]\n",
    "    df['closest'] = df.loc[:, centroid_distance_cols].idxmin(axis=1)\n",
    "    df['closest'] = df['closest'].map(lambda x: int(x.lstrip('distance_from_')))\n",
    "    return df"
   ]
  },
  {
   "cell_type": "code",
   "execution_count": 35,
   "metadata": {},
   "outputs": [],
   "source": [
    "def update(k):\n",
    "    for i in centroids.keys():\n",
    "        centroids[i][0] = np.mean(df[df['closest'] == i]['rate'])\n",
    "    return k"
   ]
  },
  {
   "cell_type": "code",
   "execution_count": 36,
   "metadata": {},
   "outputs": [],
   "source": [
    "centroids = {1: [10], 2: [40], 3: [100], 4: [180]}"
   ]
  },
  {
   "cell_type": "code",
   "execution_count": 37,
   "metadata": {},
   "outputs": [
    {
     "data": {
      "text/plain": [
       "'en_CA.UTF-8'"
      ]
     },
     "execution_count": 37,
     "metadata": {},
     "output_type": "execute_result"
    }
   ],
   "source": [
    "import locale\n",
    "locale.setlocale( locale.LC_ALL, 'en_CA.UTF-8' )"
   ]
  },
  {
   "cell_type": "code",
   "execution_count": 38,
   "metadata": {},
   "outputs": [],
   "source": [
    "%matplotlib inline"
   ]
  },
  {
   "cell_type": "code",
   "execution_count": 39,
   "metadata": {},
   "outputs": [],
   "source": [
    "df_mine = pd.read_csv(\"../../small_data/MAP1982-2013-1.csv\")"
   ]
  },
  {
   "cell_type": "code",
   "execution_count": 40,
   "metadata": {},
   "outputs": [],
   "source": [
    "dict_mine = {\n",
    "    'BOGOTA DC':'BOGOTA',\n",
    "    'LA GUAJIRA':'GUAJIRA',\n",
    "    'NARIÑO':'NARINO',\n",
    "    'NORTE DE SANTANDER':'NSANTANDER',\n",
    "    'VALLE DEL CAUCA':'VALLE'\n",
    "}"
   ]
  },
  {
   "cell_type": "code",
   "execution_count": 41,
   "metadata": {},
   "outputs": [],
   "source": [
    "df_mine[\"Departamento\"] = df_mine[\"Departamento\"].apply(lambda x:dict_mine[x] if x in dict_mine else x)"
   ]
  },
  {
   "cell_type": "code",
   "execution_count": 42,
   "metadata": {},
   "outputs": [],
   "source": [
    "df_mine = df_mine.groupby(\"Departamento\").count()[\"Municipio\"].to_frame().reset_index()"
   ]
  },
  {
   "cell_type": "code",
   "execution_count": 43,
   "metadata": {},
   "outputs": [
    {
     "data": {
      "text/html": [
       "<div>\n",
       "<style scoped>\n",
       "    .dataframe tbody tr th:only-of-type {\n",
       "        vertical-align: middle;\n",
       "    }\n",
       "\n",
       "    .dataframe tbody tr th {\n",
       "        vertical-align: top;\n",
       "    }\n",
       "\n",
       "    .dataframe thead th {\n",
       "        text-align: right;\n",
       "    }\n",
       "</style>\n",
       "<table border=\"1\" class=\"dataframe\">\n",
       "  <thead>\n",
       "    <tr style=\"text-align: right;\">\n",
       "      <th></th>\n",
       "      <th>Departamento</th>\n",
       "      <th>Municipio</th>\n",
       "    </tr>\n",
       "  </thead>\n",
       "  <tbody>\n",
       "    <tr>\n",
       "      <th>0</th>\n",
       "      <td>ANTIOQUIA</td>\n",
       "      <td>2269</td>\n",
       "    </tr>\n",
       "    <tr>\n",
       "      <th>1</th>\n",
       "      <td>ARAUCA</td>\n",
       "      <td>549</td>\n",
       "    </tr>\n",
       "    <tr>\n",
       "      <th>2</th>\n",
       "      <td>ATLANTICO</td>\n",
       "      <td>8</td>\n",
       "    </tr>\n",
       "    <tr>\n",
       "      <th>3</th>\n",
       "      <td>BOGOTA</td>\n",
       "      <td>22</td>\n",
       "    </tr>\n",
       "    <tr>\n",
       "      <th>4</th>\n",
       "      <td>BOLIVAR</td>\n",
       "      <td>599</td>\n",
       "    </tr>\n",
       "    <tr>\n",
       "      <th>5</th>\n",
       "      <td>BOYACA</td>\n",
       "      <td>74</td>\n",
       "    </tr>\n",
       "    <tr>\n",
       "      <th>6</th>\n",
       "      <td>CALDAS</td>\n",
       "      <td>173</td>\n",
       "    </tr>\n",
       "    <tr>\n",
       "      <th>7</th>\n",
       "      <td>CAQUETA</td>\n",
       "      <td>786</td>\n",
       "    </tr>\n",
       "    <tr>\n",
       "      <th>8</th>\n",
       "      <td>CASANARE</td>\n",
       "      <td>86</td>\n",
       "    </tr>\n",
       "    <tr>\n",
       "      <th>9</th>\n",
       "      <td>CAUCA</td>\n",
       "      <td>510</td>\n",
       "    </tr>\n",
       "    <tr>\n",
       "      <th>10</th>\n",
       "      <td>CESAR</td>\n",
       "      <td>155</td>\n",
       "    </tr>\n",
       "    <tr>\n",
       "      <th>11</th>\n",
       "      <td>CHOCO</td>\n",
       "      <td>97</td>\n",
       "    </tr>\n",
       "    <tr>\n",
       "      <th>12</th>\n",
       "      <td>CORDOBA</td>\n",
       "      <td>240</td>\n",
       "    </tr>\n",
       "    <tr>\n",
       "      <th>13</th>\n",
       "      <td>CUNDINAMARCA</td>\n",
       "      <td>148</td>\n",
       "    </tr>\n",
       "    <tr>\n",
       "      <th>14</th>\n",
       "      <td>GUAINIA</td>\n",
       "      <td>3</td>\n",
       "    </tr>\n",
       "    <tr>\n",
       "      <th>15</th>\n",
       "      <td>GUAJIRA</td>\n",
       "      <td>56</td>\n",
       "    </tr>\n",
       "    <tr>\n",
       "      <th>16</th>\n",
       "      <td>GUAVIARE</td>\n",
       "      <td>215</td>\n",
       "    </tr>\n",
       "    <tr>\n",
       "      <th>17</th>\n",
       "      <td>HUILA</td>\n",
       "      <td>218</td>\n",
       "    </tr>\n",
       "    <tr>\n",
       "      <th>18</th>\n",
       "      <td>MAGDALENA</td>\n",
       "      <td>41</td>\n",
       "    </tr>\n",
       "    <tr>\n",
       "      <th>19</th>\n",
       "      <td>META</td>\n",
       "      <td>1005</td>\n",
       "    </tr>\n",
       "    <tr>\n",
       "      <th>20</th>\n",
       "      <td>NARINO</td>\n",
       "      <td>681</td>\n",
       "    </tr>\n",
       "    <tr>\n",
       "      <th>21</th>\n",
       "      <td>NSANTANDER</td>\n",
       "      <td>725</td>\n",
       "    </tr>\n",
       "    <tr>\n",
       "      <th>22</th>\n",
       "      <td>PUTUMAYO</td>\n",
       "      <td>330</td>\n",
       "    </tr>\n",
       "    <tr>\n",
       "      <th>23</th>\n",
       "      <td>QUINDIO</td>\n",
       "      <td>28</td>\n",
       "    </tr>\n",
       "    <tr>\n",
       "      <th>24</th>\n",
       "      <td>RISARALDA</td>\n",
       "      <td>22</td>\n",
       "    </tr>\n",
       "    <tr>\n",
       "      <th>25</th>\n",
       "      <td>SANTANDER</td>\n",
       "      <td>288</td>\n",
       "    </tr>\n",
       "    <tr>\n",
       "      <th>26</th>\n",
       "      <td>SUCRE</td>\n",
       "      <td>72</td>\n",
       "    </tr>\n",
       "    <tr>\n",
       "      <th>27</th>\n",
       "      <td>TOLIMA</td>\n",
       "      <td>512</td>\n",
       "    </tr>\n",
       "    <tr>\n",
       "      <th>28</th>\n",
       "      <td>VALLE</td>\n",
       "      <td>236</td>\n",
       "    </tr>\n",
       "    <tr>\n",
       "      <th>29</th>\n",
       "      <td>VAUPES</td>\n",
       "      <td>43</td>\n",
       "    </tr>\n",
       "    <tr>\n",
       "      <th>30</th>\n",
       "      <td>VICHADA</td>\n",
       "      <td>12</td>\n",
       "    </tr>\n",
       "  </tbody>\n",
       "</table>\n",
       "</div>"
      ],
      "text/plain": [
       "    Departamento  Municipio\n",
       "0      ANTIOQUIA       2269\n",
       "1         ARAUCA        549\n",
       "2      ATLANTICO          8\n",
       "3         BOGOTA         22\n",
       "4        BOLIVAR        599\n",
       "5         BOYACA         74\n",
       "6         CALDAS        173\n",
       "7        CAQUETA        786\n",
       "8       CASANARE         86\n",
       "9          CAUCA        510\n",
       "10         CESAR        155\n",
       "11         CHOCO         97\n",
       "12       CORDOBA        240\n",
       "13  CUNDINAMARCA        148\n",
       "14       GUAINIA          3\n",
       "15       GUAJIRA         56\n",
       "16      GUAVIARE        215\n",
       "17         HUILA        218\n",
       "18     MAGDALENA         41\n",
       "19          META       1005\n",
       "20        NARINO        681\n",
       "21    NSANTANDER        725\n",
       "22      PUTUMAYO        330\n",
       "23       QUINDIO         28\n",
       "24     RISARALDA         22\n",
       "25     SANTANDER        288\n",
       "26         SUCRE         72\n",
       "27        TOLIMA        512\n",
       "28         VALLE        236\n",
       "29        VAUPES         43\n",
       "30       VICHADA         12"
      ]
     },
     "execution_count": 43,
     "metadata": {},
     "output_type": "execute_result"
    }
   ],
   "source": [
    "df_mine"
   ]
  },
  {
   "cell_type": "code",
   "execution_count": 44,
   "metadata": {},
   "outputs": [
    {
     "data": {
      "text/html": [
       "<div>\n",
       "<style scoped>\n",
       "    .dataframe tbody tr th:only-of-type {\n",
       "        vertical-align: middle;\n",
       "    }\n",
       "\n",
       "    .dataframe tbody tr th {\n",
       "        vertical-align: top;\n",
       "    }\n",
       "\n",
       "    .dataframe thead th {\n",
       "        text-align: right;\n",
       "    }\n",
       "</style>\n",
       "<table border=\"1\" class=\"dataframe\">\n",
       "  <thead>\n",
       "    <tr style=\"text-align: right;\">\n",
       "      <th></th>\n",
       "      <th>nombre_depto</th>\n",
       "      <th>pob2015</th>\n",
       "    </tr>\n",
       "  </thead>\n",
       "  <tbody>\n",
       "    <tr>\n",
       "      <th>0</th>\n",
       "      <td>AMAZONAS</td>\n",
       "      <td>76243</td>\n",
       "    </tr>\n",
       "    <tr>\n",
       "      <th>1</th>\n",
       "      <td>ANTIOQUIA</td>\n",
       "      <td>6534764</td>\n",
       "    </tr>\n",
       "    <tr>\n",
       "      <th>2</th>\n",
       "      <td>ARAUCA</td>\n",
       "      <td>262315</td>\n",
       "    </tr>\n",
       "    <tr>\n",
       "      <th>3</th>\n",
       "      <td>ATLANTICO</td>\n",
       "      <td>2461001</td>\n",
       "    </tr>\n",
       "    <tr>\n",
       "      <th>4</th>\n",
       "      <td>BOGOTA</td>\n",
       "      <td>7980001</td>\n",
       "    </tr>\n",
       "    <tr>\n",
       "      <th>5</th>\n",
       "      <td>BOLIVAR</td>\n",
       "      <td>2097086</td>\n",
       "    </tr>\n",
       "    <tr>\n",
       "      <th>6</th>\n",
       "      <td>BOYACA</td>\n",
       "      <td>1276367</td>\n",
       "    </tr>\n",
       "    <tr>\n",
       "      <th>7</th>\n",
       "      <td>CALDAS</td>\n",
       "      <td>988003</td>\n",
       "    </tr>\n",
       "    <tr>\n",
       "      <th>8</th>\n",
       "      <td>CAQUETA</td>\n",
       "      <td>477619</td>\n",
       "    </tr>\n",
       "    <tr>\n",
       "      <th>9</th>\n",
       "      <td>CASANARE</td>\n",
       "      <td>356438</td>\n",
       "    </tr>\n",
       "    <tr>\n",
       "      <th>10</th>\n",
       "      <td>CAUCA</td>\n",
       "      <td>1379070</td>\n",
       "    </tr>\n",
       "    <tr>\n",
       "      <th>11</th>\n",
       "      <td>CESAR</td>\n",
       "      <td>1028880</td>\n",
       "    </tr>\n",
       "    <tr>\n",
       "      <th>12</th>\n",
       "      <td>CHOCO</td>\n",
       "      <td>500076</td>\n",
       "    </tr>\n",
       "    <tr>\n",
       "      <th>13</th>\n",
       "      <td>CORDOBA</td>\n",
       "      <td>1709603</td>\n",
       "    </tr>\n",
       "    <tr>\n",
       "      <th>14</th>\n",
       "      <td>CUNDINAMARCA</td>\n",
       "      <td>2680041</td>\n",
       "    </tr>\n",
       "    <tr>\n",
       "      <th>15</th>\n",
       "      <td>GUAINIA</td>\n",
       "      <td>41482</td>\n",
       "    </tr>\n",
       "    <tr>\n",
       "      <th>16</th>\n",
       "      <td>GUAJIRA</td>\n",
       "      <td>957814</td>\n",
       "    </tr>\n",
       "    <tr>\n",
       "      <th>17</th>\n",
       "      <td>GUAVIARE</td>\n",
       "      <td>111060</td>\n",
       "    </tr>\n",
       "    <tr>\n",
       "      <th>18</th>\n",
       "      <td>HUILA</td>\n",
       "      <td>1154804</td>\n",
       "    </tr>\n",
       "    <tr>\n",
       "      <th>19</th>\n",
       "      <td>MAGDALENA</td>\n",
       "      <td>1259667</td>\n",
       "    </tr>\n",
       "    <tr>\n",
       "      <th>20</th>\n",
       "      <td>META</td>\n",
       "      <td>961292</td>\n",
       "    </tr>\n",
       "    <tr>\n",
       "      <th>21</th>\n",
       "      <td>NARINO</td>\n",
       "      <td>1744275</td>\n",
       "    </tr>\n",
       "    <tr>\n",
       "      <th>22</th>\n",
       "      <td>NSANTANDER</td>\n",
       "      <td>1355723</td>\n",
       "    </tr>\n",
       "    <tr>\n",
       "      <th>23</th>\n",
       "      <td>PUTUMAYO</td>\n",
       "      <td>345204</td>\n",
       "    </tr>\n",
       "    <tr>\n",
       "      <th>24</th>\n",
       "      <td>QUINDIO</td>\n",
       "      <td>565266</td>\n",
       "    </tr>\n",
       "    <tr>\n",
       "      <th>25</th>\n",
       "      <td>RISARALDA</td>\n",
       "      <td>951945</td>\n",
       "    </tr>\n",
       "    <tr>\n",
       "      <th>26</th>\n",
       "      <td>SANDRES</td>\n",
       "      <td>76442</td>\n",
       "    </tr>\n",
       "    <tr>\n",
       "      <th>27</th>\n",
       "      <td>SANTANDER</td>\n",
       "      <td>2061095</td>\n",
       "    </tr>\n",
       "    <tr>\n",
       "      <th>28</th>\n",
       "      <td>SUCRE</td>\n",
       "      <td>851526</td>\n",
       "    </tr>\n",
       "    <tr>\n",
       "      <th>29</th>\n",
       "      <td>TOLIMA</td>\n",
       "      <td>1408274</td>\n",
       "    </tr>\n",
       "    <tr>\n",
       "      <th>30</th>\n",
       "      <td>VALLE</td>\n",
       "      <td>4613377</td>\n",
       "    </tr>\n",
       "    <tr>\n",
       "      <th>31</th>\n",
       "      <td>VAUPES</td>\n",
       "      <td>43665</td>\n",
       "    </tr>\n",
       "    <tr>\n",
       "      <th>32</th>\n",
       "      <td>VICHADA</td>\n",
       "      <td>71974</td>\n",
       "    </tr>\n",
       "  </tbody>\n",
       "</table>\n",
       "</div>"
      ],
      "text/plain": [
       "    nombre_depto  pob2015\n",
       "0       AMAZONAS    76243\n",
       "1      ANTIOQUIA  6534764\n",
       "2         ARAUCA   262315\n",
       "3      ATLANTICO  2461001\n",
       "4         BOGOTA  7980001\n",
       "5        BOLIVAR  2097086\n",
       "6         BOYACA  1276367\n",
       "7         CALDAS   988003\n",
       "8        CAQUETA   477619\n",
       "9       CASANARE   356438\n",
       "10         CAUCA  1379070\n",
       "11         CESAR  1028880\n",
       "12         CHOCO   500076\n",
       "13       CORDOBA  1709603\n",
       "14  CUNDINAMARCA  2680041\n",
       "15       GUAINIA    41482\n",
       "16       GUAJIRA   957814\n",
       "17      GUAVIARE   111060\n",
       "18         HUILA  1154804\n",
       "19     MAGDALENA  1259667\n",
       "20          META   961292\n",
       "21        NARINO  1744275\n",
       "22    NSANTANDER  1355723\n",
       "23      PUTUMAYO   345204\n",
       "24       QUINDIO   565266\n",
       "25     RISARALDA   951945\n",
       "26       SANDRES    76442\n",
       "27     SANTANDER  2061095\n",
       "28         SUCRE   851526\n",
       "29        TOLIMA  1408274\n",
       "30         VALLE  4613377\n",
       "31        VAUPES    43665\n",
       "32       VICHADA    71974"
      ]
     },
     "execution_count": 44,
     "metadata": {},
     "output_type": "execute_result"
    }
   ],
   "source": [
    "r = requests.get('https://docs.google.com/spreadsheet/ccc?key=1e3PXAVDF_gPTx-_GTHU9hTAClEKJj5Y_D2_YsW6Vd6U&output=csv')\n",
    "data = r.content\n",
    "df = pd.read_csv(io.StringIO(data.decode(\"utf-8\")))\n",
    "df = df[['nombre_depto','pob2015']]\n",
    "df"
   ]
  },
  {
   "cell_type": "code",
   "execution_count": 45,
   "metadata": {},
   "outputs": [],
   "source": [
    "no_mines = list(set(df[\"nombre_depto\"]) - set(df_mine[\"Departamento\"]))"
   ]
  },
  {
   "cell_type": "code",
   "execution_count": 46,
   "metadata": {},
   "outputs": [],
   "source": [
    "df_zeros = pd.DataFrame(zip(no_mines, [0] * len(no_mines)))"
   ]
  },
  {
   "cell_type": "code",
   "execution_count": 47,
   "metadata": {},
   "outputs": [],
   "source": [
    "df_zeros.columns = df_mine.columns"
   ]
  },
  {
   "cell_type": "code",
   "execution_count": 48,
   "metadata": {},
   "outputs": [],
   "source": [
    "df_mine = df_mine.append(df_zeros)"
   ]
  },
  {
   "cell_type": "code",
   "execution_count": 49,
   "metadata": {},
   "outputs": [],
   "source": [
    "df_mine = df_mine.rename(columns={\"Municipio\":\"Número de minas\"})"
   ]
  },
  {
   "cell_type": "code",
   "execution_count": 50,
   "metadata": {},
   "outputs": [
    {
     "data": {
      "text/html": [
       "<div>\n",
       "<style scoped>\n",
       "    .dataframe tbody tr th:only-of-type {\n",
       "        vertical-align: middle;\n",
       "    }\n",
       "\n",
       "    .dataframe tbody tr th {\n",
       "        vertical-align: top;\n",
       "    }\n",
       "\n",
       "    .dataframe thead th {\n",
       "        text-align: right;\n",
       "    }\n",
       "</style>\n",
       "<table border=\"1\" class=\"dataframe\">\n",
       "  <thead>\n",
       "    <tr style=\"text-align: right;\">\n",
       "      <th></th>\n",
       "      <th>Departamento</th>\n",
       "      <th>Número de minas</th>\n",
       "    </tr>\n",
       "  </thead>\n",
       "  <tbody>\n",
       "    <tr>\n",
       "      <th>0</th>\n",
       "      <td>ANTIOQUIA</td>\n",
       "      <td>2269</td>\n",
       "    </tr>\n",
       "    <tr>\n",
       "      <th>1</th>\n",
       "      <td>ARAUCA</td>\n",
       "      <td>549</td>\n",
       "    </tr>\n",
       "    <tr>\n",
       "      <th>2</th>\n",
       "      <td>ATLANTICO</td>\n",
       "      <td>8</td>\n",
       "    </tr>\n",
       "    <tr>\n",
       "      <th>3</th>\n",
       "      <td>BOGOTA</td>\n",
       "      <td>22</td>\n",
       "    </tr>\n",
       "    <tr>\n",
       "      <th>4</th>\n",
       "      <td>BOLIVAR</td>\n",
       "      <td>599</td>\n",
       "    </tr>\n",
       "  </tbody>\n",
       "</table>\n",
       "</div>"
      ],
      "text/plain": [
       "  Departamento  Número de minas\n",
       "0    ANTIOQUIA             2269\n",
       "1       ARAUCA              549\n",
       "2    ATLANTICO                8\n",
       "3       BOGOTA               22\n",
       "4      BOLIVAR              599"
      ]
     },
     "execution_count": 50,
     "metadata": {},
     "output_type": "execute_result"
    }
   ],
   "source": [
    "df_mine.head()"
   ]
  },
  {
   "cell_type": "code",
   "execution_count": 51,
   "metadata": {},
   "outputs": [
    {
     "data": {
      "text/html": [
       "<div>\n",
       "<style scoped>\n",
       "    .dataframe tbody tr th:only-of-type {\n",
       "        vertical-align: middle;\n",
       "    }\n",
       "\n",
       "    .dataframe tbody tr th {\n",
       "        vertical-align: top;\n",
       "    }\n",
       "\n",
       "    .dataframe thead th {\n",
       "        text-align: right;\n",
       "    }\n",
       "</style>\n",
       "<table border=\"1\" class=\"dataframe\">\n",
       "  <thead>\n",
       "    <tr style=\"text-align: right;\">\n",
       "      <th></th>\n",
       "      <th>nombre_depto</th>\n",
       "      <th>pob2015</th>\n",
       "    </tr>\n",
       "  </thead>\n",
       "  <tbody>\n",
       "    <tr>\n",
       "      <th>0</th>\n",
       "      <td>AMAZONAS</td>\n",
       "      <td>76243</td>\n",
       "    </tr>\n",
       "    <tr>\n",
       "      <th>1</th>\n",
       "      <td>ANTIOQUIA</td>\n",
       "      <td>6534764</td>\n",
       "    </tr>\n",
       "  </tbody>\n",
       "</table>\n",
       "</div>"
      ],
      "text/plain": [
       "  nombre_depto  pob2015\n",
       "0     AMAZONAS    76243\n",
       "1    ANTIOQUIA  6534764"
      ]
     },
     "execution_count": 51,
     "metadata": {},
     "output_type": "execute_result"
    }
   ],
   "source": [
    "df.head(2)"
   ]
  },
  {
   "cell_type": "code",
   "execution_count": 52,
   "metadata": {},
   "outputs": [],
   "source": [
    "df = pd.merge(df, df_mine, left_on=\"nombre_depto\", right_on=\"Departamento\")"
   ]
  },
  {
   "cell_type": "code",
   "execution_count": 53,
   "metadata": {},
   "outputs": [],
   "source": [
    "df['rate'] = (df['Número de minas']/df['pob2015']*100000).astype(int)"
   ]
  },
  {
   "cell_type": "code",
   "execution_count": 54,
   "metadata": {},
   "outputs": [],
   "source": [
    "df.index = df[\"nombre_depto\"]"
   ]
  },
  {
   "cell_type": "code",
   "execution_count": 55,
   "metadata": {},
   "outputs": [
    {
     "data": {
      "text/plain": [
       "nombre_depto\n",
       "AMAZONAS          0\n",
       "ANTIOQUIA        34\n",
       "ARAUCA          209\n",
       "ATLANTICO         0\n",
       "BOGOTA            0\n",
       "BOLIVAR          28\n",
       "BOYACA            5\n",
       "CALDAS           17\n",
       "CAQUETA         164\n",
       "CASANARE         24\n",
       "CAUCA            36\n",
       "CESAR            15\n",
       "CHOCO            19\n",
       "CORDOBA          14\n",
       "CUNDINAMARCA      5\n",
       "GUAINIA           7\n",
       "GUAJIRA           5\n",
       "GUAVIARE        193\n",
       "HUILA            18\n",
       "MAGDALENA         3\n",
       "META            104\n",
       "NARINO           39\n",
       "NSANTANDER       53\n",
       "PUTUMAYO         95\n",
       "QUINDIO           4\n",
       "RISARALDA         2\n",
       "SANDRES           0\n",
       "SANTANDER        13\n",
       "SUCRE             8\n",
       "TOLIMA           36\n",
       "VALLE             5\n",
       "VAUPES           98\n",
       "VICHADA          16\n",
       "Name: rate, dtype: int64"
      ]
     },
     "execution_count": 55,
     "metadata": {},
     "output_type": "execute_result"
    }
   ],
   "source": [
    "df[\"rate\"]"
   ]
  },
  {
   "cell_type": "code",
   "execution_count": 56,
   "metadata": {},
   "outputs": [],
   "source": [
    "df = assignment(df, centroids)"
   ]
  },
  {
   "cell_type": "code",
   "execution_count": 57,
   "metadata": {},
   "outputs": [],
   "source": [
    "while True:\n",
    "    closest_centroids = df['closest'].copy(deep=True)\n",
    "    centroids = update(centroids)\n",
    "    df = assignment(df, centroids)\n",
    "    if closest_centroids.equals(df['closest']):\n",
    "        break"
   ]
  },
  {
   "cell_type": "code",
   "execution_count": 58,
   "metadata": {},
   "outputs": [],
   "source": [
    "df = df[['nombre_depto','rate','closest']]"
   ]
  },
  {
   "cell_type": "code",
   "execution_count": 59,
   "metadata": {},
   "outputs": [
    {
     "name": "stdout",
     "output_type": "stream",
     "text": [
      "209\n"
     ]
    },
    {
     "data": {
      "text/plain": [
       "<matplotlib.image.AxesImage at 0x11f5df430>"
      ]
     },
     "execution_count": 59,
     "metadata": {},
     "output_type": "execute_result"
    },
    {
     "data": {
      "image/png": "[encoded data removed]",
      "text/plain": [
       "<Figure size 432x288 with 1 Axes>"
      ]
     },
     "metadata": {
      "needs_background": "light"
     },
     "output_type": "display_data"
    }
   ],
   "source": [
    "spaces = 4\n",
    "max_value = df[\"rate\"].max()\n",
    "print(max_value)\n",
    "unknown_value = (128,128,128)\n",
    "bottom_value = (64,0,0)\n",
    "top_value = (255,255,255)\n",
    "arr = [bottom_value]*100*100\n",
    "diff = {}\n",
    "diff['r'] = abs(top_value[0] - bottom_value[0])//spaces\n",
    "diff['g'] = abs(top_value[1] - bottom_value[1])//spaces\n",
    "diff['b'] = abs(top_value[2] - bottom_value[2])//spaces\n",
    "colors = []\n",
    "colors.append(bottom_value)\n",
    "for i in range(spaces - 1):\n",
    "    color = ((bottom_value[0]+diff['r']*(i+1)),(bottom_value[1]+diff['g']*(i+1)),(bottom_value[2]+diff['b']*(i+1)))\n",
    "    arr = arr + [color]*100*100\n",
    "    colors.append(color)\n",
    "arr = np.array(arr).reshape(spaces*100,100,3)\n",
    "ranges_dict = {}\n",
    "for i in range(spaces):\n",
    "    ranges_dict[(round(max_value/spaces*i,2), round(max_value/spaces*(i+1),2))] = colors[-1-i]\n",
    "plt.imshow(arr)"
   ]
  },
  {
   "cell_type": "code",
   "execution_count": 60,
   "metadata": {},
   "outputs": [],
   "source": [
    "n_names = {\n",
    "    'AMAZONAS':\"AMAZ\", \n",
    "    'ANTIOQUIA':\"ANTI\", \n",
    "    'ARAUCA':\"ARAU\", \n",
    "    'ATLANTICO':\"ATLA\", \n",
    "    'BOGOTA':\"BOGO\",\n",
    "    'BOLIVAR':\"BOLI\", \n",
    "    'BOYACA':\"BOYA\", \n",
    "    'CALDAS':\"CALD\", \n",
    "    'CAQUETA':\"CAQU\", \n",
    "    'CASANARE':\"CASA\", \n",
    "    'CAUCA':\"CAUC\",\n",
    "    'CESAR':\"CESA\", \n",
    "    'CHOCO':\"CHOC\", \n",
    "    'CORDOBA':\"CORD\", \n",
    "    'CUNDINAMARCA':\"CUND\", \n",
    "    'GUAINIA':\"GUAI\", \n",
    "    'GUAJIRA':\"GUAJ\",\n",
    "    'GUAVIARE':\"GUAV\", \n",
    "    'HUILA':\"HUIL\", \n",
    "    'MAGDALENA':\"MAGD\", \n",
    "    'META':\"META\", \n",
    "    'NARINO':\"NARI\", \n",
    "    'NSANTANDER':\"NSAN\",\n",
    "    'PUTUMAYO':\"PUTU\", \n",
    "    'QUINDIO':\"QUIN\", \n",
    "    'RISARALDA':\"RISA\", \n",
    "    'SANDRES':\"SAYP\", \n",
    "    'SANTANDER':\"SANT\",\n",
    "    'SUCRE':\"SUCR\", \n",
    "    'TOLIMA':\"TOLI\", \n",
    "    'VALLE':\"VCAU\", \n",
    "    'VAUPES':\"VAUP\", \n",
    "    'VICHADA':\"VICH\"\n",
    "}\n",
    "\n",
    "n_names = {v: k for k, v in n_names.items()}"
   ]
  },
  {
   "cell_type": "code",
   "execution_count": 61,
   "metadata": {},
   "outputs": [],
   "source": [
    "def polygon_from_centroid(cen, u=100):\n",
    "    return [\n",
    "        [cen[0] - u, cen[1]],\n",
    "        [cen[0] - u/2, cen[1] - 3**(1/2)*u/2],\n",
    "        [cen[0] + u/2, cen[1] - 3**(1/2)*u/2],\n",
    "        [cen[0] + u, cen[1]],\n",
    "        [cen[0] + u/2, cen[1] + 3**(1/2)*u/2],\n",
    "        [cen[0] - u/2, cen[1] + 3**(1/2)*u/2]\n",
    "    ]"
   ]
  },
  {
   "cell_type": "code",
   "execution_count": 98,
   "metadata": {},
   "outputs": [
    {
     "name": "stdout",
     "output_type": "stream",
     "text": [
      "[0, 24, 95, 164]\n"
     ]
    }
   ],
   "source": [
    "min_lim = list(df.groupby(\"closest\").min()[\"rate\"])\n",
    "print(min_lim)"
   ]
  },
  {
   "cell_type": "code",
   "execution_count": 99,
   "metadata": {},
   "outputs": [
    {
     "name": "stdout",
     "output_type": "stream",
     "text": [
      "[19, 53, 104, 209]\n"
     ]
    }
   ],
   "source": [
    "max_lim = list(df.groupby(\"closest\").max()[\"rate\"])\n",
    "print(max_lim)"
   ]
  },
  {
   "cell_type": "code",
   "execution_count": 101,
   "metadata": {},
   "outputs": [],
   "source": [
    "lim_min_max = [min(min_lim)]\n",
    "for e, i in enumerate(max_lim[:-1]):\n",
    "    lim_min_max.append(int((i+min_lim[e+1])/2))"
   ]
  },
  {
   "cell_type": "code",
   "execution_count": 102,
   "metadata": {},
   "outputs": [],
   "source": [
    "lim_min_max.append(max(max_lim))"
   ]
  },
  {
   "cell_type": "code",
   "execution_count": 103,
   "metadata": {},
   "outputs": [
    {
     "data": {
      "text/plain": [
       "[0, 21, 74, 134, 209]"
      ]
     },
     "execution_count": 103,
     "metadata": {},
     "output_type": "execute_result"
    }
   ],
   "source": [
    "lim_min_max"
   ]
  },
  {
   "cell_type": "code",
   "execution_count": 107,
   "metadata": {},
   "outputs": [
    {
     "data": {
      "text/plain": [
       "[[0, 21], [21, 74], [74, 134], [134, 209]]"
      ]
     },
     "execution_count": 107,
     "metadata": {},
     "output_type": "execute_result"
    }
   ],
   "source": [
    "l_ranges = []\n",
    "for e,i in enumerate(lim_min_max[:-1]):\n",
    "    l_ranges.append([i, lim_min_max[e+1]])\n",
    "l_ranges"
   ]
  },
  {
   "cell_type": "code",
   "execution_count": 108,
   "metadata": {},
   "outputs": [],
   "source": [
    "dwg = svgwrite.Drawing('test.svg', profile='full')\n",
    "\n",
    "basic_u = 30\n",
    "\n",
    "columns = 10\n",
    "\n",
    "for i in range(300):\n",
    "    add_fact = 0\n",
    "    \n",
    "    if (i//columns % 2) == 1:\n",
    "        add_fact = 1.5\n",
    "        \n",
    "    text = str(i)\n",
    "    d_names = {\n",
    "        235:\"AMAZ\",\n",
    "        225:\"PUTU\",\n",
    "        215:\"CAQU\",\n",
    "        226:\"VAUP\",\n",
    "        206:\"GUAV\",\n",
    "        216:\"GUAI\",\n",
    "        196:\"VICH\",\n",
    "        186:\"META\",\n",
    "        195:\"HUIL\",\n",
    "        155:\"CUND\",\n",
    "        214:\"NARI\",\n",
    "        205:\"CAUC\",\n",
    "        185:\"TOLI\",\n",
    "        194:\"VCAU\",\n",
    "        176:\"CASA\",\n",
    "        166:\"BOYA\",\n",
    "        156:\"ARAU\",\n",
    "        184:\"CHOC\",\n",
    "        145:\"ANTI\",\n",
    "        175:\"BOGO\",\n",
    "        174:\"QUIN\",\n",
    "        154:\"RISA\",\n",
    "        165:\"CALD\",\n",
    "        146:\"SANT\",\n",
    "        134:\"CORD\",\n",
    "        125:\"SUCR\",\n",
    "        135:\"BOLI\",\n",
    "        136:\"NSAN\",\n",
    "        126:\"CESA\",\n",
    "        106:\"MAGD\",\n",
    "        96:\"GUAJ\",\n",
    "        115:\"ATLA\",\n",
    "        84:\"SAYP\"\n",
    "    }\n",
    "    \n",
    "    fill='gray'\n",
    "    \n",
    "    if i in d_names:\n",
    "        \n",
    "        text = d_names[i]\n",
    "        #fill = 'purple'\n",
    "        for range_color in ranges_dict:\n",
    "            #if df.loc[n_names[text]][4] >= range_color[0] and df.loc[n_names[text]][4] <= range_color[1]:\n",
    "                #color = ranges_dict[range_color]\n",
    "            #print(df.loc[n_names[text]])\n",
    "            #print(df.loc[n_names[text]][2])\n",
    "            color = ranges_dict[list(ranges_dict.keys())[df.loc[n_names[text]][2]-1]]\n",
    "        fill = '#%02x%02x%02x' % color\n",
    "    \n",
    "        dwg.add(svgwrite.shapes.Polygon(\n",
    "            polygon_from_centroid(\n",
    "                    [\n",
    "                        (i%columns)*3*basic_u + add_fact*basic_u,\n",
    "                        basic_u*(3**(1/2)/2)*(i//columns)\n",
    "                    ]\n",
    "                ,u=basic_u)\n",
    "                ,fill=fill\n",
    "                ,stroke='black'\n",
    "            )\n",
    "        )\n",
    "\n",
    "        dwg.add(dwg.text(text, \n",
    "                         insert=(\n",
    "                            (i%columns)*3*basic_u + add_fact*basic_u - basic_u*0.65,\n",
    "                            basic_u*(3**(1/2)/2)*(i//columns) + basic_u*0.15\n",
    "                         ),\n",
    "                         style=\"font-size:12px\"\n",
    "                        )\n",
    "               )\n",
    "\n",
    "for i, c in enumerate(ranges_dict):\n",
    "    dwg.add(svgwrite.shapes.Polygon([[650,275-i*25], [725,275-i*25], [725,300-i*25], [650,300-i*25]]\n",
    "                    ,fill='#%02x%02x%02x' % ranges_dict[c]\n",
    "                    ,stroke='black'\n",
    "                )\n",
    "            )\n",
    "    dwg.add(dwg.text(\"%s  -  %s\" % (int(l_ranges[i][0]),int(l_ranges[i][1])), \n",
    "                         insert=(730,293-i*25),\n",
    "                         style=\"font-size:12px\"\n",
    "                        )\n",
    "               )\n",
    "    \n",
    "dwg.add(dwg.text(\"Víctimas de minas antipersonales\", \n",
    "                         insert=(630,293+25),\n",
    "                         style=\"font-size:12px\"\n",
    "                        )\n",
    "               )\n",
    "\n",
    "dwg.add(dwg.text(\"por cada 100.000 habitantes\", \n",
    "                         insert=(630,293+40),\n",
    "                         style=\"font-size:12px\"\n",
    "                        )\n",
    "               )\n",
    "\n",
    "dwg.save()"
   ]
  }
 ],
 "metadata": {
  "kernelspec": {
   "display_name": "Python 3",
   "language": "python",
   "name": "python3"
  },
  "language_info": {
   "codemirror_mode": {
    "name": "ipython",
    "version": 3
   },
   "file_extension": ".py",
   "mimetype": "text/x-python",
   "name": "python",
   "nbconvert_exporter": "python",
   "pygments_lexer": "ipython3",
   "version": "3.8.0"
  }
 },
 "nbformat": 4,
 "nbformat_minor": 4
}

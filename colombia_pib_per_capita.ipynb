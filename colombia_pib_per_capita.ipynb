{
 "cells": [
  {
   "cell_type": "code",
   "execution_count": 90,
   "metadata": {},
   "outputs": [],
   "source": [
    "import svgwrite\n",
    "import numpy as np\n",
    "import pandas as pd\n",
    "import requests\n",
    "import io\n",
    "from matplotlib import pyplot as plt"
   ]
  },
  {
   "cell_type": "code",
   "execution_count": 91,
   "metadata": {},
   "outputs": [],
   "source": [
    "%matplotlib inline"
   ]
  },
  {
   "cell_type": "code",
   "execution_count": 92,
   "metadata": {},
   "outputs": [
    {
     "data": {
      "text/html": [
       "<div>\n",
       "<style scoped>\n",
       "    .dataframe tbody tr th:only-of-type {\n",
       "        vertical-align: middle;\n",
       "    }\n",
       "\n",
       "    .dataframe tbody tr th {\n",
       "        vertical-align: top;\n",
       "    }\n",
       "\n",
       "    .dataframe thead th {\n",
       "        text-align: right;\n",
       "    }\n",
       "</style>\n",
       "<table border=\"1\" class=\"dataframe\">\n",
       "  <thead>\n",
       "    <tr style=\"text-align: right;\">\n",
       "      <th></th>\n",
       "      <th>nombre_depto</th>\n",
       "      <th>pib_p_c</th>\n",
       "    </tr>\n",
       "    <tr>\n",
       "      <th>nombre_depto</th>\n",
       "      <th></th>\n",
       "      <th></th>\n",
       "    </tr>\n",
       "  </thead>\n",
       "  <tbody>\n",
       "    <tr>\n",
       "      <th>AMAZONAS</th>\n",
       "      <td>AMAZONAS</td>\n",
       "      <td>7926007</td>\n",
       "    </tr>\n",
       "    <tr>\n",
       "      <th>ANTIOQUIA</th>\n",
       "      <td>ANTIOQUIA</td>\n",
       "      <td>18335826</td>\n",
       "    </tr>\n",
       "    <tr>\n",
       "      <th>ARAUCA</th>\n",
       "      <td>ARAUCA</td>\n",
       "      <td>15980995</td>\n",
       "    </tr>\n",
       "    <tr>\n",
       "      <th>ATLANTICO</th>\n",
       "      <td>ATLANTICO</td>\n",
       "      <td>14602850</td>\n",
       "    </tr>\n",
       "    <tr>\n",
       "      <th>BOGOTA</th>\n",
       "      <td>BOGOTA</td>\n",
       "      <td>27563656</td>\n",
       "    </tr>\n",
       "  </tbody>\n",
       "</table>\n",
       "</div>"
      ],
      "text/plain": [
       "             nombre_depto   pib_p_c\n",
       "nombre_depto                       \n",
       "AMAZONAS         AMAZONAS   7926007\n",
       "ANTIOQUIA       ANTIOQUIA  18335826\n",
       "ARAUCA             ARAUCA  15980995\n",
       "ATLANTICO       ATLANTICO  14602850\n",
       "BOGOTA             BOGOTA  27563656"
      ]
     },
     "execution_count": 92,
     "metadata": {},
     "output_type": "execute_result"
    }
   ],
   "source": [
    "r = requests.get('https://docs.google.com/spreadsheet/ccc?key=1e3PXAVDF_gPTx-_GTHU9hTAClEKJj5Y_D2_YsW6Vd6U&output=csv')\n",
    "data = r.content\n",
    "df = pd.read_csv(io.StringIO(data.decode(\"utf-8\")))\n",
    "df = df_dptos[['nombre_depto','pib_p_c']]\n",
    "df.index = df_dptos['nombre_depto']\n",
    "df.head()"
   ]
  },
  {
   "cell_type": "code",
   "execution_count": 93,
   "metadata": {},
   "outputs": [
    {
     "name": "stdout",
     "output_type": "stream",
     "text": [
      "31164897\n"
     ]
    },
    {
     "data": {
      "text/plain": [
       "<matplotlib.image.AxesImage at 0x7f8745e96198>"
      ]
     },
     "execution_count": 93,
     "metadata": {},
     "output_type": "execute_result"
    },
    {
     "data": {
      "image/png": "[encoded data removed]",
      "text/plain": [
       "<Figure size 432x288 with 1 Axes>"
      ]
     },
     "metadata": {
      "needs_background": "light"
     },
     "output_type": "display_data"
    }
   ],
   "source": [
    "spaces = 4\n",
    "max_value = df[\"pib_p_c\"].max()\n",
    "print(max_value)\n",
    "unknown_value = (128,128,128)\n",
    "bottom_value = (0,64,0)\n",
    "top_value = (255,255,255)\n",
    "arr = [bottom_value]*100*100\n",
    "diff = {}\n",
    "diff['r'] = abs(top_value[0] - bottom_value[0])//spaces\n",
    "diff['g'] = abs(top_value[1] - bottom_value[1])//spaces\n",
    "diff['b'] = abs(top_value[2] - bottom_value[2])//spaces\n",
    "colors = []\n",
    "colors.append(bottom_value)\n",
    "for i in range(spaces - 1):\n",
    "    color = ((bottom_value[0]+diff['r']*(i+1)),(bottom_value[1]+diff['g']*(i+1)),(bottom_value[2]+diff['b']*(i+1)))\n",
    "    arr = arr + [color]*100*100\n",
    "    colors.append(color)\n",
    "arr = np.array(arr).reshape(spaces*100,100,3)\n",
    "ranges_dict = {}\n",
    "for i in range(spaces):\n",
    "    ranges_dict[(round(max_value/spaces*i,2), round(max_value/spaces*(i+1),2))] = colors[-1-i]\n",
    "plt.imshow(arr)"
   ]
  },
  {
   "cell_type": "code",
   "execution_count": 94,
   "metadata": {},
   "outputs": [],
   "source": [
    "n_names = {\n",
    "    'AMAZONAS':\"AMAZ\", \n",
    "    'ANTIOQUIA':\"ANTI\", \n",
    "    'ARAUCA':\"ARAU\", \n",
    "    'ATLANTICO':\"ATLA\", \n",
    "    'BOGOTA':\"BOGO\",\n",
    "    'BOLIVAR':\"BOLI\", \n",
    "    'BOYACA':\"BOYA\", \n",
    "    'CALDAS':\"CALD\", \n",
    "    'CAQUETA':\"CAQU\", \n",
    "    'CASANARE':\"CASA\", \n",
    "    'CAUCA':\"CAUC\",\n",
    "    'CESAR':\"CESA\", \n",
    "    'CHOCO':\"CHOC\", \n",
    "    'CORDOBA':\"CORD\", \n",
    "    'CUNDINAMARCA':\"CUND\", \n",
    "    'GUAINIA':\"GUAI\", \n",
    "    'GUAJIRA':\"GUAJ\",\n",
    "    'GUAVIARE':\"GUAV\", \n",
    "    'HUILA':\"HUIL\", \n",
    "    'MAGDALENA':\"MAGD\", \n",
    "    'META':\"META\", \n",
    "    'NARINO':\"NARI\", \n",
    "    'NSANTANDER':\"NSAN\",\n",
    "    'PUTUMAYO':\"PUTU\", \n",
    "    'QUINDIO':\"QUIN\", \n",
    "    'RISARALDA':\"RISA\", \n",
    "    'SANDRES':\"SAYP\", \n",
    "    'SANTANDER':\"SANT\",\n",
    "    'SUCRE':\"SUCR\", \n",
    "    'TOLIMA':\"TOLI\", \n",
    "    'VALLE':\"VCAU\", \n",
    "    'VAUPES':\"VAUP\", \n",
    "    'VICHADA':\"VICH\"\n",
    "}\n",
    "\n",
    "n_names = {v: k for k, v in n_names.items()}"
   ]
  },
  {
   "cell_type": "code",
   "execution_count": 95,
   "metadata": {},
   "outputs": [
    {
     "data": {
      "text/plain": [
       "{'AMAZ': 'AMAZONAS',\n",
       " 'ANTI': 'ANTIOQUIA',\n",
       " 'ARAU': 'ARAUCA',\n",
       " 'ATLA': 'ATLANTICO',\n",
       " 'BOGO': 'BOGOTA',\n",
       " 'BOLI': 'BOLIVAR',\n",
       " 'BOYA': 'BOYACA',\n",
       " 'CALD': 'CALDAS',\n",
       " 'CAQU': 'CAQUETA',\n",
       " 'CASA': 'CASANARE',\n",
       " 'CAUC': 'CAUCA',\n",
       " 'CESA': 'CESAR',\n",
       " 'CHOC': 'CHOCO',\n",
       " 'CORD': 'CORDOBA',\n",
       " 'CUND': 'CUNDINAMARCA',\n",
       " 'GUAI': 'GUAINIA',\n",
       " 'GUAJ': 'GUAJIRA',\n",
       " 'GUAV': 'GUAVIARE',\n",
       " 'HUIL': 'HUILA',\n",
       " 'MAGD': 'MAGDALENA',\n",
       " 'META': 'META',\n",
       " 'NARI': 'NARINO',\n",
       " 'NSAN': 'NSANTANDER',\n",
       " 'PUTU': 'PUTUMAYO',\n",
       " 'QUIN': 'QUINDIO',\n",
       " 'RISA': 'RISARALDA',\n",
       " 'SAYP': 'SANDRES',\n",
       " 'SANT': 'SANTANDER',\n",
       " 'SUCR': 'SUCRE',\n",
       " 'TOLI': 'TOLIMA',\n",
       " 'VCAU': 'VALLE',\n",
       " 'VAUP': 'VAUPES',\n",
       " 'VICH': 'VICHADA'}"
      ]
     },
     "execution_count": 95,
     "metadata": {},
     "output_type": "execute_result"
    }
   ],
   "source": [
    "n_names"
   ]
  },
  {
   "cell_type": "code",
   "execution_count": 96,
   "metadata": {},
   "outputs": [],
   "source": [
    "def polygon_from_centroid(cen, u=100):\n",
    "    return [\n",
    "        [cen[0] - u, cen[1]],\n",
    "        [cen[0] - u/2, cen[1] - 3**(1/2)*u/2],\n",
    "        [cen[0] + u/2, cen[1] - 3**(1/2)*u/2],\n",
    "        [cen[0] + u, cen[1]],\n",
    "        [cen[0] + u/2, cen[1] + 3**(1/2)*u/2],\n",
    "        [cen[0] - u/2, cen[1] + 3**(1/2)*u/2]\n",
    "    ]"
   ]
  },
  {
   "cell_type": "code",
   "execution_count": 97,
   "metadata": {},
   "outputs": [],
   "source": [
    "dwg = svgwrite.Drawing('test.svg', profile='full')\n",
    "\n",
    "basic_u = 30\n",
    "\n",
    "columns = 10\n",
    "\n",
    "for i in range(300):\n",
    "    add_fact = 0\n",
    "    \n",
    "    if (i//columns % 2) == 1:\n",
    "        add_fact = 1.5\n",
    "        \n",
    "    text = str(i)\n",
    "    d_names = {\n",
    "        235:\"AMAZ\",\n",
    "        225:\"PUTU\",\n",
    "        215:\"CAQU\",\n",
    "        226:\"VAUP\",\n",
    "        206:\"GUAV\",\n",
    "        216:\"GUAI\",\n",
    "        196:\"VICH\",\n",
    "        186:\"META\",\n",
    "        195:\"HUIL\",\n",
    "        155:\"CUND\",\n",
    "        214:\"NARI\",\n",
    "        205:\"CAUC\",\n",
    "        185:\"TOLI\",\n",
    "        194:\"VCAU\",\n",
    "        176:\"CASA\",\n",
    "        166:\"BOYA\",\n",
    "        156:\"ARAU\",\n",
    "        184:\"CHOC\",\n",
    "        145:\"ANTI\",\n",
    "        175:\"BOGO\",\n",
    "        174:\"QUIN\",\n",
    "        154:\"RISA\",\n",
    "        165:\"CALD\",\n",
    "        146:\"SANT\",\n",
    "        134:\"CORD\",\n",
    "        125:\"SUCR\",\n",
    "        135:\"BOLI\",\n",
    "        136:\"NSAN\",\n",
    "        126:\"CESA\",\n",
    "        106:\"MAGD\",\n",
    "        96:\"GUAJ\",\n",
    "        115:\"ATLA\",\n",
    "        84:\"SAYP\"\n",
    "    }\n",
    "    \n",
    "    fill='gray'\n",
    "    \n",
    "    if i in d_names:\n",
    "        \n",
    "        text = d_names[i]\n",
    "        #fill = 'purple'\n",
    "        for range_color in ranges_dict:\n",
    "            if df.loc[n_names[text]][1] >= range_color[0] and df.loc[n_names[text]][1] <= range_color[1]:\n",
    "                color = ranges_dict[range_color]\n",
    "        fill = '#%02x%02x%02x' % color\n",
    "    \n",
    "        dwg.add(svgwrite.shapes.Polygon(\n",
    "            polygon_from_centroid(\n",
    "                    [\n",
    "                        (i%columns)*3*basic_u + add_fact*basic_u,\n",
    "                        basic_u*(3**(1/2)/2)*(i//columns)\n",
    "                    ]\n",
    "                ,u=basic_u)\n",
    "                ,fill=fill\n",
    "                ,stroke='black'\n",
    "            )\n",
    "        )\n",
    "\n",
    "        dwg.add(dwg.text(text, \n",
    "                         insert=(\n",
    "                            (i%columns)*3*basic_u + add_fact*basic_u - basic_u*0.65,\n",
    "                            basic_u*(3**(1/2)/2)*(i//columns) + basic_u*0.15\n",
    "                         ),\n",
    "                         style=\"font-size:12px\"\n",
    "                        )\n",
    "               )\n",
    "dwg.save()"
   ]
  }
 ],
 "metadata": {
  "kernelspec": {
   "display_name": "Python 3",
   "language": "python",
   "name": "python3"
  },
  "language_info": {
   "codemirror_mode": {
    "name": "ipython",
    "version": 3
   },
   "file_extension": ".py",
   "mimetype": "text/x-python",
   "name": "python",
   "nbconvert_exporter": "python",
   "pygments_lexer": "ipython3",
   "version": "3.7.0"
  }
 },
 "nbformat": 4,
 "nbformat_minor": 2
}

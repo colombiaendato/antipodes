{
 "cells": [
  {
   "cell_type": "code",
   "execution_count": 1,
   "metadata": {},
   "outputs": [],
   "source": [
    "import folium\n",
    "import folium.plugins\n",
    "from folium.features import *"
   ]
  },
  {
   "cell_type": "code",
   "execution_count": 2,
   "metadata": {},
   "outputs": [],
   "source": [
    "class DivIcon(MacroElement):\n",
    "    def __init__(self, html='', size=(30,30), anchor=(0,0), style=''):\n",
    "        \"\"\"TODO : docstring here\"\"\"\n",
    "        super(DivIcon, self).__init__()\n",
    "        self._name = 'DivIcon'\n",
    "        self.size = size\n",
    "        self.anchor = anchor\n",
    "        self.html = html\n",
    "        self.style = style\n",
    "\n",
    "        self._template = Template(u\"\"\"\n",
    "            {% macro header(this, kwargs) %}\n",
    "              <style>\n",
    "                .{{this.get_name()}} {\n",
    "                    {{this.style}}\n",
    "                    }\n",
    "              </style>\n",
    "            {% endmacro %}\n",
    "            {% macro script(this, kwargs) %}\n",
    "                var {{this.get_name()}} = L.divIcon({\n",
    "                    className: '{{this.get_name()}}',\n",
    "                    iconSize: [{{ this.size[0] }},{{ this.size[1] }}],\n",
    "                    iconAnchor: [{{ this.anchor[0] }},{{ this.anchor[1] }}],\n",
    "                    html : \"{{this.html}}\",\n",
    "                    });\n",
    "                {{this._parent.get_name()}}.setIcon({{this.get_name()}});\n",
    "            {% endmacro %}\n",
    "            \"\"\")"
   ]
  },
  {
   "cell_type": "code",
   "execution_count": 3,
   "metadata": {},
   "outputs": [
    {
     "data": {
      "text/html": [
       "<div style=\"width:100%;\"><div style=\"position:relative;width:100%;height:0;padding-bottom:60%;\"><iframe src=\"data:text/html;charset=utf-8;base64,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\" style=\"position:absolute;width:100%;height:100%;left:0;top:0;border:none !important;\" allowfullscreen webkitallowfullscreen mozallowfullscreen></iframe></div></div>"
      ],
      "text/plain": [
       "<folium.folium.Map at 0x7f7170b10f28>"
      ]
     },
     "execution_count": 3,
     "metadata": {},
     "output_type": "execute_result"
    }
   ],
   "source": [
    "m = folium.Map([4.7110, -74.0721],\n",
    "                tiles=\"Mapbox Bright\",\n",
    "                zoom_start=5)\n",
    "\n",
    "folium.map.Marker(\n",
    "    [4.7110, -74.0721]).add_to(m)\n",
    "\n",
    "folium.map.Marker(\n",
    "    [4.7110, -74.0721],\n",
    "    icon=DivIcon(\n",
    "        size=(150,36),\n",
    "        anchor=(150,0),\n",
    "        html='Bogotá',\n",
    "        style=\"\"\"\n",
    "            font-size:36px;\n",
    "            background-color: transparent;\n",
    "            border-color: transparent;\n",
    "            text-align: right;\n",
    "            \"\"\"\n",
    "        )\n",
    "    ).add_to(m)\n",
    "\n",
    "\n",
    "m"
   ]
  }
 ],
 "metadata": {
  "kernelspec": {
   "display_name": "Python 3",
   "language": "python",
   "name": "python3"
  },
  "language_info": {
   "codemirror_mode": {
    "name": "ipython",
    "version": 3
   },
   "file_extension": ".py",
   "mimetype": "text/x-python",
   "name": "python",
   "nbconvert_exporter": "python",
   "pygments_lexer": "ipython3",
   "version": "3.7.0"
  }
 },
 "nbformat": 4,
 "nbformat_minor": 2
}

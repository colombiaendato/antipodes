{
 "cells": [
  {
   "cell_type": "code",
   "execution_count": 10,
   "metadata": {},
   "outputs": [],
   "source": [
    "import folium\n",
    "import folium.plugins\n",
    "import pandas as pd\n",
    "from folium.features import *\n",
    "from math import sin, cos, sqrt, atan2, radians"
   ]
  },
  {
   "cell_type": "code",
   "execution_count": 23,
   "metadata": {},
   "outputs": [],
   "source": [
    "class DivIcon(MacroElement):\n",
    "    def __init__(self, html='', size=(30,30), anchor=(0,0), style=''):\n",
    "        \"\"\"TODO : docstring here\"\"\"\n",
    "        super(DivIcon, self).__init__()\n",
    "        self._name = 'DivIcon'\n",
    "        self.size = size\n",
    "        self.anchor = anchor\n",
    "        self.html = html\n",
    "        self.style = style\n",
    "\n",
    "        self._template = Template(u\"\"\"\n",
    "            {% macro header(this, kwargs) %}\n",
    "              <style>\n",
    "                .{{this.get_name()}} {\n",
    "                    {{this.style}}\n",
    "                    }\n",
    "              </style>\n",
    "            {% endmacro %}\n",
    "            {% macro script(this, kwargs) %}\n",
    "                var {{this.get_name()}} = L.divIcon({\n",
    "                    className: '{{this.get_name()}}',\n",
    "                    iconSize: [{{ this.size[0] }},{{ this.size[1] }}],\n",
    "                    iconAnchor: [{{ this.anchor[0] }},{{ this.anchor[1] }}],\n",
    "                    html : \"{{this.html}}\",\n",
    "                    });\n",
    "                {{this._parent.get_name()}}.setIcon({{this.get_name()}});\n",
    "            {% endmacro %}\n",
    "            \"\"\")"
   ]
  },
  {
   "cell_type": "code",
   "execution_count": 11,
   "metadata": {},
   "outputs": [],
   "source": [
    "def get_distance(p0, p1):\n",
    "    R = 6373.0\n",
    "\n",
    "    lat1 = radians(p0[1])\n",
    "    lon1 = radians(p0[0])\n",
    "    lat2 = radians(p1[1])\n",
    "    lon2 = radians(p1[0])\n",
    "\n",
    "    dlon = lon2 - lon1\n",
    "    dlat = lat2 - lat1\n",
    "\n",
    "    a = sin(dlat / 2)**2 + cos(lat1) * cos(lat2) * sin(dlon / 2)**2\n",
    "    c = 2 * atan2(sqrt(a), sqrt(1 - a))\n",
    "\n",
    "    distance = R * c\n",
    "    \n",
    "    return distance"
   ]
  },
  {
   "cell_type": "code",
   "execution_count": 12,
   "metadata": {},
   "outputs": [
    {
     "name": "stderr",
     "output_type": "stream",
     "text": [
      "/home/jfm/anaconda3/envs/colombiaendato/lib/python3.7/site-packages/IPython/core/interactiveshell.py:2785: DtypeWarning: Columns (3) have mixed types. Specify dtype option on import or set low_memory=False.\n",
      "  interactivity=interactivity, compiler=compiler, result=result)\n"
     ]
    }
   ],
   "source": [
    "df_cities = pd.read_csv('./data/worldcitiespop.csv', encoding='latin-1', names=['co','name','reg_name','code','pop','lat','lon'])"
   ]
  },
  {
   "cell_type": "code",
   "execution_count": 80,
   "metadata": {},
   "outputs": [
    {
     "name": "stdout",
     "output_type": "stream",
     "text": [
      "6.32 -75.23 38.639636769230776 -55.402222223076926\n",
      "-32.319636769230776 -19.827777776923078\n"
     ]
    },
    {
     "name": "stderr",
     "output_type": "stream",
     "text": [
      "/home/jfm/anaconda3/envs/colombiaendato/lib/python3.7/site-packages/ipykernel_launcher.py:14: SettingWithCopyWarning: \n",
      "A value is trying to be set on a copy of a slice from a DataFrame.\n",
      "Try using .loc[row_indexer,col_indexer] = value instead\n",
      "\n",
      "See the caveats in the documentation: http://pandas.pydata.org/pandas-docs/stable/indexing.html#indexing-view-versus-copy\n",
      "  \n",
      "/home/jfm/anaconda3/envs/colombiaendato/lib/python3.7/site-packages/ipykernel_launcher.py:15: SettingWithCopyWarning: \n",
      "A value is trying to be set on a copy of a slice from a DataFrame.\n",
      "Try using .loc[row_indexer,col_indexer] = value instead\n",
      "\n",
      "See the caveats in the documentation: http://pandas.pydata.org/pandas-docs/stable/indexing.html#indexing-view-versus-copy\n",
      "  from ipykernel import kernelapp as app\n"
     ]
    }
   ],
   "source": [
    "df_cities_M = df_cities[(df_cities['pop'] > 5000)]\n",
    "lat_eu_avg = df_cities_M[df_cities_M['name'].isin(['madrid','paris','berlin','moscow'])]['lat'].mean()\n",
    "lon_eu_avg = df_cities_M[df_cities_M['name'].isin(['madrid','paris','berlin','moscow'])]['lon'].mean()\n",
    "#lat_co_avg = df_cities_M[df_cities_M['co'].isin(['co'])]['lat'].mean()\n",
    "lat_co_avg = 6.32\n",
    "#lon_co_avg = df_cities_M[df_cities_M['co'].isin(['co'])]['lon'].mean()\n",
    "lon_co_avg = -75.23\n",
    "print(lat_co_avg, lon_co_avg, lat_eu_avg, lon_eu_avg)\n",
    "diff_lat =  lat_co_avg - lat_eu_avg\n",
    "diff_lon =  lon_co_avg - lon_eu_avg\n",
    "print(diff_lat, diff_lon)\n",
    "#diff_lat = 0\n",
    "#diff_lon = 0\n",
    "df_cities_M['lon'] = df_cities_M['lon'] + 94\n",
    "df_cities_M['lat'] = df_cities_M['lat'] + 45\n",
    "deptos_capitals = [\n",
    "    'leticia',\n",
    "    #'medellin',\n",
    "    'arauca',\n",
    "    #'barranquilla',\n",
    "    #'cartagena',\n",
    "    #'tunja',\n",
    "    #'manizales',\n",
    "    #'florencia',\n",
    "    #'yopal',\n",
    "    'popayan',\n",
    "    #'valledupar',\n",
    "    'quibdo',\n",
    "    'monteria',\n",
    "    'bogota',\n",
    "    'inirida',\n",
    "    'san jose del guaviare',\n",
    "    'neiva',\n",
    "    'riohacha',\n",
    "    #'santa marta',\n",
    "    #'villavicencio',\n",
    "    'pasto',\n",
    "    'cucuta',\n",
    "    #'mocoa',\n",
    "    #'armenia',\n",
    "    #'pereira',\n",
    "    'san andres',\n",
    "    #'bucaramanga',\n",
    "    #'sincelejo',\n",
    "    #'ibague',\n",
    "    #'cali',\n",
    "    'mitu',\n",
    "    'puerto carreno'\n",
    "]\n",
    "df_cities_M = df_cities_M[df_cities_M['name'].isin(deptos_capitals)]\n",
    "df_cities_M = df_cities_M[df_cities_M['co'] == 'co']"
   ]
  },
  {
   "cell_type": "code",
   "execution_count": 81,
   "metadata": {
    "scrolled": false
   },
   "outputs": [],
   "source": [
    "m = folium.Map([lat_eu_avg, lon_eu_avg],\n",
    "                tiles='http://{s}.tiles.wmflabs.org/bw-mapnik/{z}/{x}/{y}.png',\n",
    "                attr='&copy; <a href=\"http://osm.org/copyright\">OpenStreetMap</a> contributors',\n",
    "                zoom_start=1)\n",
    "\n",
    "for city in df_cities_M.iterrows():\n",
    "    #City\n",
    "    lat = city[1]['lat']\n",
    "    lon = city[1]['lon']\n",
    "    name = city[1]['reg_name']\n",
    "    #if name in set(['bogota']):\n",
    "    folium.map.Marker(\n",
    "        [lat,lon],icon=folium.Icon(icon='star',color='orange')).add_to(m)\n",
    "    folium.map.Marker(\n",
    "        [lat,lon],\n",
    "        icon=DivIcon(\n",
    "            size=(150,36),\n",
    "            anchor=(150,0),\n",
    "            html=name,\n",
    "            style=\"\"\"\n",
    "                font-size:14px;\n",
    "                font-weight: bold;\n",
    "                background-color: transparent;\n",
    "                border-color: transparent;\n",
    "                text-align: right;\n",
    "                \"\"\"\n",
    "            )\n",
    "        ).add_to(m)\n",
    "\n",
    "m.save('./map.html')"
   ]
  }
 ],
 "metadata": {
  "kernelspec": {
   "display_name": "Python 3",
   "language": "python",
   "name": "python3"
  },
  "language_info": {
   "codemirror_mode": {
    "name": "ipython",
    "version": 3
   },
   "file_extension": ".py",
   "mimetype": "text/x-python",
   "name": "python",
   "nbconvert_exporter": "python",
   "pygments_lexer": "ipython3",
   "version": "3.7.0"
  }
 },
 "nbformat": 4,
 "nbformat_minor": 2
}

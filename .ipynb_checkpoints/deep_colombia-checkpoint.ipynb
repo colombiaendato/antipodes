{
 "cells": [
  {
   "cell_type": "code",
   "execution_count": 107,
   "metadata": {},
   "outputs": [],
   "source": [
    "import folium\n",
    "import folium.plugins\n",
    "import pymongo\n",
    "import pandas as pd\n",
    "from folium.features import *\n",
    "from math import sin, cos, sqrt, atan2, radians"
   ]
  },
  {
   "cell_type": "code",
   "execution_count": 108,
   "metadata": {},
   "outputs": [],
   "source": [
    "pd.options.display.max_rows = 999"
   ]
  },
  {
   "cell_type": "code",
   "execution_count": 109,
   "metadata": {},
   "outputs": [],
   "source": [
    "client = pymongo.MongoClient(\"localhost\", 27017)\n",
    "coll = client.col_en_datos.cities"
   ]
  },
  {
   "cell_type": "code",
   "execution_count": 110,
   "metadata": {},
   "outputs": [],
   "source": [
    "#db.getCollection('cities').find({\n",
    "#   population: {$gt:10000},\n",
    "#   location: {\n",
    "#     $near: {\n",
    "#       $geometry: {\n",
    "#          type: \"Point\" ,\n",
    "#          coordinates: [ -74.0721 , 4.7110 ]\n",
    "#       }\n",
    "#     }\n",
    "#   }\n",
    "#})"
   ]
  },
  {
   "cell_type": "code",
   "execution_count": 111,
   "metadata": {},
   "outputs": [],
   "source": [
    "def get_nearest_city(coor):\n",
    "    lat = coor[1]\n",
    "    lon = coor[0]\n",
    "    res = coll.find({\n",
    "        'population': {'$gt':5000},\n",
    "        'location': {\n",
    "            '$near': {\n",
    "                '$geometry': {\n",
    "                    'type': \"Point\" ,\n",
    "                    'coordinates': [ lon , lat ]\n",
    "                }\n",
    "            }\n",
    "        }\n",
    "    })\n",
    "    return res[1]"
   ]
  },
  {
   "cell_type": "code",
   "execution_count": 112,
   "metadata": {},
   "outputs": [],
   "source": [
    "def get_distance(p0, p1):\n",
    "    R = 6373.0\n",
    "\n",
    "    lat1 = radians(p0[1])\n",
    "    lon1 = radians(p0[0])\n",
    "    lat2 = radians(p1[1])\n",
    "    lon2 = radians(p1[0])\n",
    "\n",
    "    dlon = lon2 - lon1\n",
    "    dlat = lat2 - lat1\n",
    "\n",
    "    a = sin(dlat / 2)**2 + cos(lat1) * cos(lat2) * sin(dlon / 2)**2\n",
    "    c = 2 * atan2(sqrt(a), sqrt(1 - a))\n",
    "\n",
    "    distance = R * c\n",
    "    \n",
    "    return distance"
   ]
  },
  {
   "cell_type": "code",
   "execution_count": 113,
   "metadata": {},
   "outputs": [],
   "source": [
    "cities = coll.find({'population': {'$gt':5000}, 'country':'co'})\n",
    "#cities = coll.find({'population': {'$gt':100000}})\n",
    "#cities = coll.find({'population': {'$gt':10000}})"
   ]
  },
  {
   "cell_type": "code",
   "execution_count": 114,
   "metadata": {},
   "outputs": [],
   "source": [
    "distances_df = []\n",
    "for city in cities:\n",
    "    nearest_city = get_nearest_city(city['location']['coordinates'])\n",
    "    d = {}\n",
    "    d['city'] = city['city']\n",
    "    d['city_coor'] = city['location']['coordinates']\n",
    "    d['nearest_city'] = nearest_city['city']\n",
    "    d['nearest_city_coor'] = nearest_city['location']['coordinates']\n",
    "    d['distance'] = get_distance(city['location']['coordinates'], nearest_city['location']['coordinates'])\n",
    "    distances_df.append(d)\n",
    "distances_df = pd.DataFrame(distances_df)"
   ]
  },
  {
   "cell_type": "code",
   "execution_count": 115,
   "metadata": {
    "scrolled": false
   },
   "outputs": [],
   "source": [
    "top_5 = distances_df.sort_values('distance', ascending=False).head(5)"
   ]
  },
  {
   "cell_type": "code",
   "execution_count": 116,
   "metadata": {},
   "outputs": [
    {
     "data": {
      "text/html": [
       "<div>\n",
       "<style scoped>\n",
       "    .dataframe tbody tr th:only-of-type {\n",
       "        vertical-align: middle;\n",
       "    }\n",
       "\n",
       "    .dataframe tbody tr th {\n",
       "        vertical-align: top;\n",
       "    }\n",
       "\n",
       "    .dataframe thead th {\n",
       "        text-align: right;\n",
       "    }\n",
       "</style>\n",
       "<table border=\"1\" class=\"dataframe\">\n",
       "  <thead>\n",
       "    <tr style=\"text-align: right;\">\n",
       "      <th></th>\n",
       "      <th>city</th>\n",
       "      <th>city_coor</th>\n",
       "      <th>distance</th>\n",
       "      <th>nearest_city</th>\n",
       "      <th>nearest_city_coor</th>\n",
       "    </tr>\n",
       "  </thead>\n",
       "  <tbody>\n",
       "    <tr>\n",
       "      <th>246</th>\n",
       "      <td>Mitú</td>\n",
       "      <td>[-70.173333, 1.198333]</td>\n",
       "      <td>314.528032</td>\n",
       "      <td>San José del Guaviare</td>\n",
       "      <td>[-72.645914, 2.572858]</td>\n",
       "    </tr>\n",
       "    <tr>\n",
       "      <th>189</th>\n",
       "      <td>Inírida</td>\n",
       "      <td>[-67.923889, 3.865278]</td>\n",
       "      <td>202.808878</td>\n",
       "      <td>Puerto Ayacucho</td>\n",
       "      <td>[-67.62361109999999, 5.6638889]</td>\n",
       "    </tr>\n",
       "    <tr>\n",
       "      <th>312</th>\n",
       "      <td>Puerto Leguízamo</td>\n",
       "      <td>[-74.781886, -0.193368]</td>\n",
       "      <td>170.122551</td>\n",
       "      <td>Cartagena del Chairá</td>\n",
       "      <td>[-74.842886, 1.334884]</td>\n",
       "    </tr>\n",
       "    <tr>\n",
       "      <th>362</th>\n",
       "      <td>San Andrés</td>\n",
       "      <td>[-81.700556, 12.584722]</td>\n",
       "      <td>152.082628</td>\n",
       "      <td>Corn Island</td>\n",
       "      <td>[-83.0333333, 12.166666699999999]</td>\n",
       "    </tr>\n",
       "    <tr>\n",
       "      <th>38</th>\n",
       "      <td>Bajo Baudó</td>\n",
       "      <td>[-77.365975, 4.953336]</td>\n",
       "      <td>79.000410</td>\n",
       "      <td>Istmina</td>\n",
       "      <td>[-76.683971, 5.160538]</td>\n",
       "    </tr>\n",
       "  </tbody>\n",
       "</table>\n",
       "</div>"
      ],
      "text/plain": [
       "                 city                city_coor    distance  \\\n",
       "246              Mitú   [-70.173333, 1.198333]  314.528032   \n",
       "189           Inírida   [-67.923889, 3.865278]  202.808878   \n",
       "312  Puerto Leguízamo  [-74.781886, -0.193368]  170.122551   \n",
       "362        San Andrés  [-81.700556, 12.584722]  152.082628   \n",
       "38         Bajo Baudó   [-77.365975, 4.953336]   79.000410   \n",
       "\n",
       "              nearest_city                  nearest_city_coor  \n",
       "246  San José del Guaviare             [-72.645914, 2.572858]  \n",
       "189        Puerto Ayacucho    [-67.62361109999999, 5.6638889]  \n",
       "312   Cartagena del Chairá             [-74.842886, 1.334884]  \n",
       "362            Corn Island  [-83.0333333, 12.166666699999999]  \n",
       "38                 Istmina             [-76.683971, 5.160538]  "
      ]
     },
     "execution_count": 116,
     "metadata": {},
     "output_type": "execute_result"
    }
   ],
   "source": [
    "top_5"
   ]
  },
  {
   "cell_type": "code",
   "execution_count": 117,
   "metadata": {},
   "outputs": [],
   "source": [
    "class DivIcon(MacroElement):\n",
    "    def __init__(self, html='', size=(30,30), anchor=(0,0), style=''):\n",
    "        \"\"\"TODO : docstring here\"\"\"\n",
    "        super(DivIcon, self).__init__()\n",
    "        self._name = 'DivIcon'\n",
    "        self.size = size\n",
    "        self.anchor = anchor\n",
    "        self.html = html\n",
    "        self.style = style\n",
    "\n",
    "        self._template = Template(u\"\"\"\n",
    "            {% macro header(this, kwargs) %}\n",
    "              <style>\n",
    "                .{{this.get_name()}} {\n",
    "                    {{this.style}}\n",
    "                    }\n",
    "              </style>\n",
    "            {% endmacro %}\n",
    "            {% macro script(this, kwargs) %}\n",
    "                var {{this.get_name()}} = L.divIcon({\n",
    "                    className: '{{this.get_name()}}',\n",
    "                    iconSize: [{{ this.size[0] }},{{ this.size[1] }}],\n",
    "                    iconAnchor: [{{ this.anchor[0] }},{{ this.anchor[1] }}],\n",
    "                    html : \"{{this.html}}\",\n",
    "                    });\n",
    "                {{this._parent.get_name()}}.setIcon({{this.get_name()}});\n",
    "            {% endmacro %}\n",
    "            \"\"\")"
   ]
  },
  {
   "cell_type": "code",
   "execution_count": 118,
   "metadata": {},
   "outputs": [
    {
     "data": {
      "text/html": [
       "<div style=\"width:100%;\"><div style=\"position:relative;width:100%;height:0;padding-bottom:60%;\"><iframe src=\"data:text/html;charset=utf-8;base64,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\" style=\"position:absolute;width:100%;height:100%;left:0;top:0;border:none !important;\" allowfullscreen webkitallowfullscreen mozallowfullscreen></iframe></div></div>"
      ],
      "text/plain": [
       "<folium.folium.Map at 0x7fb4cbf0c3c8>"
      ]
     },
     "execution_count": 118,
     "metadata": {},
     "output_type": "execute_result"
    }
   ],
   "source": [
    "m = folium.Map([4.7110, -74.0721],\n",
    "                tiles='https://korona.geog.uni-heidelberg.de/tiles/roadsg/x={x}&y={y}&z={z}',\n",
    "                attr='&copy; <a href=\"http://osm.org/copyright\">OpenStreetMap</a> contributors',\n",
    "                zoom_start=5)\n",
    "\n",
    "for city_index, city in enumerate(top_5.iterrows()):\n",
    "    #City\n",
    "    coor_city = city[1]['city_coor']\n",
    "    folium.map.Marker(\n",
    "        [coor_city[1],coor_city[0]]).add_to(m)\n",
    "    folium.map.Marker(\n",
    "        [coor_city[1],coor_city[0]],\n",
    "        icon=DivIcon(\n",
    "            size=(150,36),\n",
    "            anchor=(150,0),\n",
    "            html=\"%s. %s\" % ((city_index + 1), city[1]['city']),\n",
    "            style=\"\"\"\n",
    "                font-size:20px;\n",
    "                background-color: transparent;\n",
    "                border-color: transparent;\n",
    "                text-align: right;\n",
    "                \"\"\"\n",
    "            )\n",
    "        ).add_to(m)\n",
    "    \n",
    "    #Nearest city\n",
    "    coor_n_city = city[1]['nearest_city_coor']\n",
    "    folium.map.Marker(\n",
    "        [coor_n_city[1],coor_n_city[0]]).add_to(m)\n",
    "    folium.map.Marker(\n",
    "        [coor_n_city[1],coor_n_city[0]],\n",
    "        icon=DivIcon(\n",
    "            size=(150,36),\n",
    "            anchor=(150,0),\n",
    "            html=\"%s (%s km)\" % (city[1]['nearest_city'], int(city[1]['distance'])),\n",
    "            style=\"\"\"\n",
    "                font-size:15px;\n",
    "                background-color: transparent;\n",
    "                border-color: transparent;\n",
    "                text-align: right;\n",
    "                \"\"\"\n",
    "            )\n",
    "        ).add_to(m)\n",
    "    \n",
    "    folium.PolyLine([[coor_city[1],coor_city[0]], [coor_n_city[1],coor_n_city[0]]], color=\"red\", weight=2.5, opacity=1).add_to(m)\n",
    "\n",
    "m\n",
    "#m.save('/tmp/map.html')"
   ]
  }
 ],
 "metadata": {
  "kernelspec": {
   "display_name": "Python 3",
   "language": "python",
   "name": "python3"
  },
  "language_info": {
   "codemirror_mode": {
    "name": "ipython",
    "version": 3
   },
   "file_extension": ".py",
   "mimetype": "text/x-python",
   "name": "python",
   "nbconvert_exporter": "python",
   "pygments_lexer": "ipython3",
   "version": "3.6.3"
  }
 },
 "nbformat": 4,
 "nbformat_minor": 2
}

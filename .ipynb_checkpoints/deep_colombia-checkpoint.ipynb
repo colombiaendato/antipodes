{
 "cells": [
  {
   "cell_type": "code",
   "execution_count": 182,
   "metadata": {},
   "outputs": [],
   "source": [
    "import folium\n",
    "import folium.plugins\n",
    "import pymongo\n",
    "import pandas as pd\n",
    "from folium.features import *\n",
    "from math import sin, cos, sqrt, atan2, radians"
   ]
  },
  {
   "cell_type": "code",
   "execution_count": 183,
   "metadata": {},
   "outputs": [],
   "source": [
    "pd.options.display.max_rows = 999"
   ]
  },
  {
   "cell_type": "code",
   "execution_count": 184,
   "metadata": {},
   "outputs": [],
   "source": [
    "client = pymongo.MongoClient(\"localhost\", 27017)\n",
    "coll = client.col_en_datos.cities"
   ]
  },
  {
   "cell_type": "code",
   "execution_count": 185,
   "metadata": {},
   "outputs": [],
   "source": [
    "#db.getCollection('cities').find({\n",
    "#   population: {$gt:10000},\n",
    "#   location: {\n",
    "#     $near: {\n",
    "#       $geometry: {\n",
    "#          type: \"Point\" ,\n",
    "#          coordinates: [ -74.0721 , 4.7110 ]\n",
    "#       }\n",
    "#     }\n",
    "#   }\n",
    "#})"
   ]
  },
  {
   "cell_type": "code",
   "execution_count": 186,
   "metadata": {},
   "outputs": [],
   "source": [
    "def get_nearest_city(coor):\n",
    "    lat = coor[1]\n",
    "    lon = coor[0]\n",
    "    res = coll.find({\n",
    "        'population': {'$gt':5000},\n",
    "        'location': {\n",
    "            '$near': {\n",
    "                '$geometry': {\n",
    "                    'type': \"Point\" ,\n",
    "                    'coordinates': [ lon , lat ]\n",
    "                }\n",
    "            }\n",
    "        }\n",
    "    })\n",
    "    return res[1]"
   ]
  },
  {
   "cell_type": "code",
   "execution_count": 187,
   "metadata": {},
   "outputs": [],
   "source": [
    "def get_distance(p0, p1):\n",
    "    R = 6373.0\n",
    "\n",
    "    lat1 = radians(p0[1])\n",
    "    lon1 = radians(p0[0])\n",
    "    lat2 = radians(p1[1])\n",
    "    lon2 = radians(p1[0])\n",
    "\n",
    "    dlon = lon2 - lon1\n",
    "    dlat = lat2 - lat1\n",
    "\n",
    "    a = sin(dlat / 2)**2 + cos(lat1) * cos(lat2) * sin(dlon / 2)**2\n",
    "    c = 2 * atan2(sqrt(a), sqrt(1 - a))\n",
    "\n",
    "    distance = R * c\n",
    "    \n",
    "    return distance"
   ]
  },
  {
   "cell_type": "code",
   "execution_count": 188,
   "metadata": {},
   "outputs": [],
   "source": [
    "cities = coll.find({'population': {'$gt':5000}, 'country':'co'})\n",
    "#cities = coll.find({'population': {'$gt':10000}})"
   ]
  },
  {
   "cell_type": "code",
   "execution_count": 189,
   "metadata": {},
   "outputs": [],
   "source": [
    "distances_df = []\n",
    "for city in cities:\n",
    "    nearest_city = get_nearest_city(city['location']['coordinates'])\n",
    "    d = {}\n",
    "    d['city'] = city['city']\n",
    "    d['nearest_city'] = nearest_city['city']\n",
    "    d['distance'] = get_distance(city['location']['coordinates'], nearest_city['location']['coordinates'])\n",
    "    distances_df.append(d)\n",
    "distances_df = pd.DataFrame(distances_df)"
   ]
  },
  {
   "cell_type": "code",
   "execution_count": 193,
   "metadata": {
    "scrolled": false
   },
   "outputs": [
    {
     "data": {
      "text/html": [
       "<div>\n",
       "<style scoped>\n",
       "    .dataframe tbody tr th:only-of-type {\n",
       "        vertical-align: middle;\n",
       "    }\n",
       "\n",
       "    .dataframe tbody tr th {\n",
       "        vertical-align: top;\n",
       "    }\n",
       "\n",
       "    .dataframe thead th {\n",
       "        text-align: right;\n",
       "    }\n",
       "</style>\n",
       "<table border=\"1\" class=\"dataframe\">\n",
       "  <thead>\n",
       "    <tr style=\"text-align: right;\">\n",
       "      <th></th>\n",
       "      <th>city</th>\n",
       "      <th>distance</th>\n",
       "      <th>nearest_city</th>\n",
       "    </tr>\n",
       "  </thead>\n",
       "  <tbody>\n",
       "    <tr>\n",
       "      <th>38</th>\n",
       "      <td>Bajo Baudó</td>\n",
       "      <td>79.000410</td>\n",
       "      <td>Istmina</td>\n",
       "    </tr>\n",
       "    <tr>\n",
       "      <th>362</th>\n",
       "      <td>San Andrés</td>\n",
       "      <td>152.082628</td>\n",
       "      <td>Corn Island</td>\n",
       "    </tr>\n",
       "    <tr>\n",
       "      <th>312</th>\n",
       "      <td>Puerto Leguízamo</td>\n",
       "      <td>170.122551</td>\n",
       "      <td>Cartagena del Chairá</td>\n",
       "    </tr>\n",
       "    <tr>\n",
       "      <th>189</th>\n",
       "      <td>Inírida</td>\n",
       "      <td>202.808878</td>\n",
       "      <td>Puerto Ayacucho</td>\n",
       "    </tr>\n",
       "    <tr>\n",
       "      <th>246</th>\n",
       "      <td>Mitú</td>\n",
       "      <td>314.528032</td>\n",
       "      <td>San José del Guaviare</td>\n",
       "    </tr>\n",
       "  </tbody>\n",
       "</table>\n",
       "</div>"
      ],
      "text/plain": [
       "                 city    distance           nearest_city\n",
       "38         Bajo Baudó   79.000410                Istmina\n",
       "362        San Andrés  152.082628            Corn Island\n",
       "312  Puerto Leguízamo  170.122551   Cartagena del Chairá\n",
       "189           Inírida  202.808878        Puerto Ayacucho\n",
       "246              Mitú  314.528032  San José del Guaviare"
      ]
     },
     "execution_count": 193,
     "metadata": {},
     "output_type": "execute_result"
    }
   ],
   "source": [
    "distances_df.sort_values('distance').tail(5)"
   ]
  },
  {
   "cell_type": "code",
   "execution_count": 191,
   "metadata": {},
   "outputs": [],
   "source": [
    "class DivIcon(MacroElement):\n",
    "    def __init__(self, html='', size=(30,30), anchor=(0,0), style=''):\n",
    "        \"\"\"TODO : docstring here\"\"\"\n",
    "        super(DivIcon, self).__init__()\n",
    "        self._name = 'DivIcon'\n",
    "        self.size = size\n",
    "        self.anchor = anchor\n",
    "        self.html = html\n",
    "        self.style = style\n",
    "\n",
    "        self._template = Template(u\"\"\"\n",
    "            {% macro header(this, kwargs) %}\n",
    "              <style>\n",
    "                .{{this.get_name()}} {\n",
    "                    {{this.style}}\n",
    "                    }\n",
    "              </style>\n",
    "            {% endmacro %}\n",
    "            {% macro script(this, kwargs) %}\n",
    "                var {{this.get_name()}} = L.divIcon({\n",
    "                    className: '{{this.get_name()}}',\n",
    "                    iconSize: [{{ this.size[0] }},{{ this.size[1] }}],\n",
    "                    iconAnchor: [{{ this.anchor[0] }},{{ this.anchor[1] }}],\n",
    "                    html : \"{{this.html}}\",\n",
    "                    });\n",
    "                {{this._parent.get_name()}}.setIcon({{this.get_name()}});\n",
    "            {% endmacro %}\n",
    "            \"\"\")"
   ]
  },
  {
   "cell_type": "code",
   "execution_count": 192,
   "metadata": {},
   "outputs": [
    {
     "data": {
      "text/html": [
       "<div style=\"width:100%;\"><div style=\"position:relative;width:100%;height:0;padding-bottom:60%;\"><iframe src=\"data:text/html;charset=utf-8;base64,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\" style=\"position:absolute;width:100%;height:100%;left:0;top:0;border:none !important;\" allowfullscreen webkitallowfullscreen mozallowfullscreen></iframe></div></div>"
      ],
      "text/plain": [
       "<folium.folium.Map at 0x7f179eed7c88>"
      ]
     },
     "execution_count": 192,
     "metadata": {},
     "output_type": "execute_result"
    }
   ],
   "source": [
    "m = folium.Map([4.7110, -74.0721],\n",
    "                tiles=\"Mapbox Bright\",\n",
    "                zoom_start=5)\n",
    "\n",
    "folium.map.Marker(\n",
    "    [4.7110, -74.0721]).add_to(m)\n",
    "\n",
    "folium.map.Marker(\n",
    "    [4.7110, -74.0721],\n",
    "    icon=DivIcon(\n",
    "        size=(150,36),\n",
    "        anchor=(150,0),\n",
    "        html='Bogotá',\n",
    "        style=\"\"\"\n",
    "            font-size:36px;\n",
    "            background-color: transparent;\n",
    "            border-color: transparent;\n",
    "            text-align: right;\n",
    "            \"\"\"\n",
    "        )\n",
    "    ).add_to(m)\n",
    "\n",
    "\n",
    "m"
   ]
  }
 ],
 "metadata": {
  "kernelspec": {
   "display_name": "Python 3",
   "language": "python",
   "name": "python3"
  },
  "language_info": {
   "codemirror_mode": {
    "name": "ipython",
    "version": 3
   },
   "file_extension": ".py",
   "mimetype": "text/x-python",
   "name": "python",
   "nbconvert_exporter": "python",
   "pygments_lexer": "ipython3",
   "version": "3.6.3"
  }
 },
 "nbformat": 4,
 "nbformat_minor": 2
}

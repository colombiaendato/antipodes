{
 "cells": [
  {
   "cell_type": "code",
   "execution_count": 1,
   "metadata": {},
   "outputs": [],
   "source": [
    "import svgwrite\n",
    "import numpy as np\n",
    "import pandas as pd\n",
    "import requests\n",
    "import io\n",
    "from matplotlib import pyplot as plt"
   ]
  },
  {
   "cell_type": "code",
   "execution_count": 2,
   "metadata": {},
   "outputs": [],
   "source": [
    "%matplotlib inline"
   ]
  },
  {
   "cell_type": "code",
   "execution_count": 5,
   "metadata": {},
   "outputs": [],
   "source": [
    "#https://www.datos.gov.co/Educaci%C3%B3n/Saber-11-2018-1/w42r-j8f9\n",
    "df = pd.read_csv('./data/Saber_11__2018-1.csv')"
   ]
  },
  {
   "cell_type": "code",
   "execution_count": 14,
   "metadata": {},
   "outputs": [
    {
     "data": {
      "text/plain": [
       "estu_depto_presentacion\n",
       "SUCRE              191.090909\n",
       "CHOCO              199.500000\n",
       "SAN ANDRES         204.400000\n",
       "GUAINIA            212.333333\n",
       "CAQUETA            213.550000\n",
       "ARAUCA             214.019608\n",
       "PUTUMAYO           216.070175\n",
       "CASANARE           216.375000\n",
       "META               221.170213\n",
       "HUILA              221.788462\n",
       "NORTE SANTANDER    226.552239\n",
       "BOYACA             235.552083\n",
       "TOLIMA             240.641509\n",
       "GUAVIARE           242.500000\n",
       "CESAR              253.861538\n",
       "ANTIOQUIA          269.442142\n",
       "CALDAS             273.338983\n",
       "BOLIVAR            274.281938\n",
       "CUNDINAMARCA       274.611342\n",
       "SANTANDER          275.452096\n",
       "CAUCA              276.672000\n",
       "NARIÑO             280.407752\n",
       "RISARALDA          282.664360\n",
       "VALLE              290.240768\n",
       "MAGDALENA          292.298246\n",
       "CORDOBA            293.888889\n",
       "BOGOTA             300.085658\n",
       "QUINDIO            304.410256\n",
       "LA GUAJIRA         306.542373\n",
       "ATLANTICO          314.545455\n",
       "Name: punt_global, dtype: float64"
      ]
     },
     "execution_count": 14,
     "metadata": {},
     "output_type": "execute_result"
    }
   ],
   "source": [
    "df[['estu_depto_presentacion','punt_global']].groupby(['estu_depto_presentacion'])['punt_global'].agg('mean').sort_values()"
   ]
  },
  {
   "cell_type": "code",
   "execution_count": 6,
   "metadata": {},
   "outputs": [
    {
     "name": "stdout",
     "output_type": "stream",
     "text": [
      "31164897\n"
     ]
    },
    {
     "data": {
      "text/plain": [
       "<matplotlib.image.AxesImage at 0x7f0d4d9836d8>"
      ]
     },
     "execution_count": 6,
     "metadata": {},
     "output_type": "execute_result"
    },
    {
     "data": {
      "image/png": "[encoded data removed]",
      "text/plain": [
       "<Figure size 432x288 with 1 Axes>"
      ]
     },
     "metadata": {
      "needs_background": "light"
     },
     "output_type": "display_data"
    }
   ],
   "source": [
    "spaces = 4\n",
    "max_value = df[\"pib_p_c\"].max()\n",
    "print(max_value)\n",
    "unknown_value = (128,128,128)\n",
    "bottom_value = (0,64,0)\n",
    "top_value = (255,255,255)\n",
    "arr = [bottom_value]*100*100\n",
    "diff = {}\n",
    "diff['r'] = abs(top_value[0] - bottom_value[0])//spaces\n",
    "diff['g'] = abs(top_value[1] - bottom_value[1])//spaces\n",
    "diff['b'] = abs(top_value[2] - bottom_value[2])//spaces\n",
    "colors = []\n",
    "colors.append(bottom_value)\n",
    "for i in range(spaces - 1):\n",
    "    color = ((bottom_value[0]+diff['r']*(i+1)),(bottom_value[1]+diff['g']*(i+1)),(bottom_value[2]+diff['b']*(i+1)))\n",
    "    arr = arr + [color]*100*100\n",
    "    colors.append(color)\n",
    "arr = np.array(arr).reshape(spaces*100,100,3)\n",
    "ranges_dict = {}\n",
    "for i in range(spaces):\n",
    "    ranges_dict[(round(max_value/spaces*i,2), round(max_value/spaces*(i+1),2))] = colors[-1-i]\n",
    "plt.imshow(arr)"
   ]
  },
  {
   "cell_type": "code",
   "execution_count": 7,
   "metadata": {},
   "outputs": [],
   "source": [
    "n_names = {\n",
    "    'AMAZONAS':\"AMAZ\", \n",
    "    'ANTIOQUIA':\"ANTI\", \n",
    "    'ARAUCA':\"ARAU\", \n",
    "    'ATLANTICO':\"ATLA\", \n",
    "    'BOGOTA':\"BOGO\",\n",
    "    'BOLIVAR':\"BOLI\", \n",
    "    'BOYACA':\"BOYA\", \n",
    "    'CALDAS':\"CALD\", \n",
    "    'CAQUETA':\"CAQU\", \n",
    "    'CASANARE':\"CASA\", \n",
    "    'CAUCA':\"CAUC\",\n",
    "    'CESAR':\"CESA\", \n",
    "    'CHOCO':\"CHOC\", \n",
    "    'CORDOBA':\"CORD\", \n",
    "    'CUNDINAMARCA':\"CUND\", \n",
    "    'GUAINIA':\"GUAI\", \n",
    "    'GUAJIRA':\"GUAJ\",\n",
    "    'GUAVIARE':\"GUAV\", \n",
    "    'HUILA':\"HUIL\", \n",
    "    'MAGDALENA':\"MAGD\", \n",
    "    'META':\"META\", \n",
    "    'NARINO':\"NARI\", \n",
    "    'NSANTANDER':\"NSAN\",\n",
    "    'PUTUMAYO':\"PUTU\", \n",
    "    'QUINDIO':\"QUIN\", \n",
    "    'RISARALDA':\"RISA\", \n",
    "    'SANDRES':\"SAYP\", \n",
    "    'SANTANDER':\"SANT\",\n",
    "    'SUCRE':\"SUCR\", \n",
    "    'TOLIMA':\"TOLI\", \n",
    "    'VALLE':\"VCAU\", \n",
    "    'VAUPES':\"VAUP\", \n",
    "    'VICHADA':\"VICH\"\n",
    "}\n",
    "\n",
    "n_names = {v: k for k, v in n_names.items()}"
   ]
  },
  {
   "cell_type": "code",
   "execution_count": 9,
   "metadata": {},
   "outputs": [],
   "source": [
    "def polygon_from_centroid(cen, u=100):\n",
    "    return [\n",
    "        [cen[0] - u, cen[1]],\n",
    "        [cen[0] - u/2, cen[1] - 3**(1/2)*u/2],\n",
    "        [cen[0] + u/2, cen[1] - 3**(1/2)*u/2],\n",
    "        [cen[0] + u, cen[1]],\n",
    "        [cen[0] + u/2, cen[1] + 3**(1/2)*u/2],\n",
    "        [cen[0] - u/2, cen[1] + 3**(1/2)*u/2]\n",
    "    ]"
   ]
  },
  {
   "cell_type": "code",
   "execution_count": 53,
   "metadata": {},
   "outputs": [],
   "source": [
    "dwg = svgwrite.Drawing('test.svg', profile='full')\n",
    "\n",
    "basic_u = 30\n",
    "\n",
    "columns = 10\n",
    "\n",
    "for i in range(300):\n",
    "    add_fact = 0\n",
    "    \n",
    "    if (i//columns % 2) == 1:\n",
    "        add_fact = 1.5\n",
    "        \n",
    "    text = str(i)\n",
    "    d_names = {\n",
    "        235:\"AMAZ\",\n",
    "        225:\"PUTU\",\n",
    "        215:\"CAQU\",\n",
    "        226:\"VAUP\",\n",
    "        206:\"GUAV\",\n",
    "        216:\"GUAI\",\n",
    "        196:\"VICH\",\n",
    "        186:\"META\",\n",
    "        195:\"HUIL\",\n",
    "        155:\"CUND\",\n",
    "        214:\"NARI\",\n",
    "        205:\"CAUC\",\n",
    "        185:\"TOLI\",\n",
    "        194:\"VCAU\",\n",
    "        176:\"CASA\",\n",
    "        166:\"BOYA\",\n",
    "        156:\"ARAU\",\n",
    "        184:\"CHOC\",\n",
    "        145:\"ANTI\",\n",
    "        175:\"BOGO\",\n",
    "        174:\"QUIN\",\n",
    "        154:\"RISA\",\n",
    "        165:\"CALD\",\n",
    "        146:\"SANT\",\n",
    "        134:\"CORD\",\n",
    "        125:\"SUCR\",\n",
    "        135:\"BOLI\",\n",
    "        136:\"NSAN\",\n",
    "        126:\"CESA\",\n",
    "        106:\"MAGD\",\n",
    "        96:\"GUAJ\",\n",
    "        115:\"ATLA\",\n",
    "        84:\"SAYP\"\n",
    "    }\n",
    "    \n",
    "    fill='gray'\n",
    "    \n",
    "    if i in d_names:\n",
    "        \n",
    "        text = d_names[i]\n",
    "        #fill = 'purple'\n",
    "        for range_color in ranges_dict:\n",
    "            if df.loc[n_names[text]][1] >= range_color[0] and df.loc[n_names[text]][1] <= range_color[1]:\n",
    "                color = ranges_dict[range_color]\n",
    "        fill = '#%02x%02x%02x' % color\n",
    "    \n",
    "        dwg.add(svgwrite.shapes.Polygon(\n",
    "            polygon_from_centroid(\n",
    "                    [\n",
    "                        (i%columns)*3*basic_u + add_fact*basic_u,\n",
    "                        basic_u*(3**(1/2)/2)*(i//columns)\n",
    "                    ]\n",
    "                ,u=basic_u)\n",
    "                ,fill=fill\n",
    "                ,stroke='black'\n",
    "            )\n",
    "        )\n",
    "\n",
    "        dwg.add(dwg.text(text, \n",
    "                         insert=(\n",
    "                            (i%columns)*3*basic_u + add_fact*basic_u - basic_u*0.65,\n",
    "                            basic_u*(3**(1/2)/2)*(i//columns) + basic_u*0.15\n",
    "                         ),\n",
    "                         style=\"font-size:12px\"\n",
    "                        )\n",
    "               )\n",
    "\n",
    "for i, c in enumerate(ranges_dict):\n",
    "    dwg.add(svgwrite.shapes.Polygon([[650,275-i*25], [725,275-i*25], [725,300-i*25], [650,300-i*25]]\n",
    "                    ,fill='#%02x%02x%02x' % ranges_dict[c]\n",
    "                    ,stroke='black'\n",
    "                )\n",
    "            )\n",
    "    dwg.add(dwg.text(\"%s  -  %s\" % (locale.currency( c[0], grouping=True )[:-3],\n",
    "                                    locale.currency( c[1], grouping=True )[:-3]), \n",
    "                         insert=(730,293-i*25),\n",
    "                         style=\"font-size:12px\"\n",
    "                        )\n",
    "               )\n",
    "    \n",
    "dwg.add(dwg.text(\"[Pesos colombianos]\", \n",
    "                         insert=(730,293+25),\n",
    "                         style=\"font-size:12px\"\n",
    "                        )\n",
    "               )\n",
    "\n",
    "dwg.save()"
   ]
  }
 ],
 "metadata": {
  "kernelspec": {
   "display_name": "Python 3",
   "language": "python",
   "name": "python3"
  },
  "language_info": {
   "codemirror_mode": {
    "name": "ipython",
    "version": 3
   },
   "file_extension": ".py",
   "mimetype": "text/x-python",
   "name": "python",
   "nbconvert_exporter": "python",
   "pygments_lexer": "ipython3",
   "version": "3.7.0"
  }
 },
 "nbformat": 4,
 "nbformat_minor": 2
}

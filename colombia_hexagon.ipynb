{
 "cells": [
  {
   "cell_type": "code",
   "execution_count": 1,
   "metadata": {},
   "outputs": [],
   "source": [
    "import svgwrite"
   ]
  },
  {
   "cell_type": "code",
   "execution_count": 2,
   "metadata": {},
   "outputs": [],
   "source": [
    "def polygon_from_centroid(cen, u=100):\n",
    "    return [\n",
    "        [cen[0] - u, cen[1]],\n",
    "        [cen[0] - u/2, cen[1] - 3**(1/2)*u/2],\n",
    "        [cen[0] + u/2, cen[1] - 3**(1/2)*u/2],\n",
    "        [cen[0] + u, cen[1]],\n",
    "        [cen[0] + u/2, cen[1] + 3**(1/2)*u/2],\n",
    "        [cen[0] - u/2, cen[1] + 3**(1/2)*u/2]\n",
    "    ]"
   ]
  },
  {
   "cell_type": "code",
   "execution_count": 43,
   "metadata": {},
   "outputs": [],
   "source": [
    "d_names = {\n",
    "    395:\"CHIL\",\n",
    "    379:\"BOLI\",\n",
    "    365:\"PARA\",\n",
    "    380:\"ARGE\",\n",
    "    349:\"PERU\",\n",
    "    335:\"BRAS\",\n",
    "    350:\"URUG\",\n",
    "    334:\"ECUA\",\n",
    "    319:\"COLO\",\n",
    "    305:\"VENE\",\n",
    "    290:\"GUYA\",\n",
    "    306:\"SURI\",\n",
    "    291:\"GFRA\",\n",
    "    304:\"PANA\",\n",
    "    288:\"CRIC\",\n",
    "    258:\"NICA\",\n",
    "    228:\"HOND\",\n",
    "    213:\"SALV\",\n",
    "    214:\"BELI\",\n",
    "    198:\"GUAT\",\n",
    "    168:\"MEXI\",\n",
    "    154:\"EEUU\",\n",
    "    124:\"CANA\",\n",
    "    155:\"BAHA\",\n",
    "    185:\"CUBA\",\n",
    "    200:\"HAIT\",\n",
    "    230:\"JAMA\",\n",
    "    216:\"RDOM\",\n",
    "    231:\"PRIC\",\n",
    "    217:\"BARB\",\n",
    "    247:\"TYTO\"\n",
    "}"
   ]
  },
  {
   "cell_type": "code",
   "execution_count": 44,
   "metadata": {},
   "outputs": [],
   "source": [
    "dwg = svgwrite.Drawing('test.svg', profile='full')\n",
    "\n",
    "basic_u = 25\n",
    "\n",
    "columns = 15\n",
    "\n",
    "for i in range(434):\n",
    "    add_fact = 0\n",
    "    \n",
    "    if (i//columns % 2) == 1:\n",
    "        add_fact = 1.5\n",
    "        \n",
    "    text = str(i)\n",
    "    \n",
    "    fill='violet'\n",
    "    \n",
    "    if i in d_names:\n",
    "        text = d_names[i]\n",
    "    else:\n",
    "    #text = d_names[i]\n",
    "        text = str(i)\n",
    "    #fill = 'purple'\n",
    "\n",
    "    dwg.add(svgwrite.shapes.Polygon(\n",
    "        polygon_from_centroid(\n",
    "                [\n",
    "                    (i%columns)*3*basic_u + add_fact*basic_u,\n",
    "                    basic_u*(3**(1/2)/2)*(i//columns)\n",
    "                ]\n",
    "            ,u=basic_u)\n",
    "            ,fill=fill\n",
    "            ,stroke='black'\n",
    "        )\n",
    "    )\n",
    "\n",
    "    dwg.add(dwg.text(text, \n",
    "                     insert=(\n",
    "                        (i%columns)*3*basic_u + add_fact*basic_u - basic_u*0.65,\n",
    "                        basic_u*(3**(1/2)/2)*(i//columns) + basic_u*0.15\n",
    "                     ),\n",
    "                     style=\"font-size:12px\"\n",
    "                    )\n",
    "           )\n",
    "dwg.save()"
   ]
  }
 ],
 "metadata": {
  "kernelspec": {
   "display_name": "Python 3",
   "language": "python",
   "name": "python3"
  },
  "language_info": {
   "codemirror_mode": {
    "name": "ipython",
    "version": 3
   },
   "file_extension": ".py",
   "mimetype": "text/x-python",
   "name": "python",
   "nbconvert_exporter": "python",
   "pygments_lexer": "ipython3",
   "version": "3.7.0"
  }
 },
 "nbformat": 4,
 "nbformat_minor": 2
}
